{
  "nbformat": 4,
  "nbformat_minor": 0,
  "metadata": {
    "colab": {
      "provenance": [],
      "collapsed_sections": []
    },
    "kernelspec": {
      "name": "python3",
      "display_name": "Python 3"
    },
    "language_info": {
      "name": "python"
    },
    "accelerator": "GPU",
    "gpuClass": "standard"
  },
  "cells": [
    {
      "cell_type": "markdown",
      "source": [
        "# Step 0. 필요한 모듈, 라이브러리 불러들이기!!\n",
        "\n",
        "새로운 데이터셋에 대해서 추상적 요약과 추출적 요약을 모두 해보는 시간을 가지게 될 것이다.\n",
        "\n",
        "먼저 주요 라이브러리 버전을 확인해 보는데, summa의 경우는 코랩에서 할 때는 명령어를 통해 따로 설치해야 한다.\n",
        "\n",
        "* summa : 이 녀석은 아무래도 summary에서 따온 모듈인 거 같고 summary가 요약이라는 뜻이 있다보니까 기다란 텍스트를 몇 개의 단어로 요약을 시켜줄 수 있는 그런 기능을 가진 모듈이 아닐까 생각해본다. 아무튼 설치 시작!!"
      ],
      "metadata": {
        "id": "0e-RhNSSjmYQ"
      }
    },
    {
      "cell_type": "code",
      "execution_count": 1,
      "metadata": {
        "colab": {
          "base_uri": "https://localhost:8080/"
        },
        "id": "ihNdmFjRglwy",
        "outputId": "d9b6c7c2-c872-48d8-d59b-0d04ccf3e4f4"
      },
      "outputs": [
        {
          "output_type": "stream",
          "name": "stdout",
          "text": [
            "Looking in indexes: https://pypi.org/simple, https://us-python.pkg.dev/colab-wheels/public/simple/\n",
            "Collecting summa\n",
            "  Downloading summa-1.2.0.tar.gz (54 kB)\n",
            "\u001b[K     |████████████████████████████████| 54 kB 3.0 MB/s \n",
            "\u001b[?25hRequirement already satisfied: scipy>=0.19 in /usr/local/lib/python3.7/dist-packages (from summa) (1.7.3)\n",
            "Requirement already satisfied: numpy<1.23.0,>=1.16.5 in /usr/local/lib/python3.7/dist-packages (from scipy>=0.19->summa) (1.21.6)\n",
            "Building wheels for collected packages: summa\n",
            "  Building wheel for summa (setup.py) ... \u001b[?25l\u001b[?25hdone\n",
            "  Created wheel for summa: filename=summa-1.2.0-py3-none-any.whl size=54412 sha256=53051758028c0320e07101d4bd5c37c96e5c8b1f5be70debb60067a9ac1c57b0\n",
            "  Stored in directory: /root/.cache/pip/wheels/29/64/ac/7b443477588d365ef37ada30d456bdf5f07dc5be9f6324cb6e\n",
            "Successfully built summa\n",
            "Installing collected packages: summa\n",
            "Successfully installed summa-1.2.0\n"
          ]
        }
      ],
      "source": [
        "!pip install summa"
      ]
    },
    {
      "cell_type": "code",
      "source": [
        "import nltk\n",
        "nltk.download('stopwords')\n",
        "\n",
        "import numpy as np\n",
        "import pandas as pd\n",
        "import os\n",
        "import re\n",
        "import matplotlib.pyplot as plt\n",
        "from nltk.corpus import stopwords\n",
        "from bs4 import BeautifulSoup\n",
        "from importlib_metadata import version\n",
        "\n",
        "import tensorflow as tf\n",
        "from tensorflow.keras.preprocessing.text import Tokenizer \n",
        "from tensorflow.keras.preprocessing.sequence import pad_sequences\n",
        "\n",
        "import summa\n",
        "import urllib.request\n",
        "import warnings\n",
        "warnings.filterwarnings(\"ignore\", category=UserWarning, module='bs4')\n",
        "\n",
        "print(nltk.__version__)\n",
        "print(tf.__version__)\n",
        "print(version('summa'))"
      ],
      "metadata": {
        "colab": {
          "base_uri": "https://localhost:8080/"
        },
        "id": "ea5H8_KGg2CC",
        "outputId": "d1b72db8-8b6d-48ba-d708-0102e4d5594c"
      },
      "execution_count": 2,
      "outputs": [
        {
          "output_type": "stream",
          "name": "stderr",
          "text": [
            "[nltk_data] Downloading package stopwords to /root/nltk_data...\n",
            "[nltk_data]   Unzipping corpora/stopwords.zip.\n"
          ]
        },
        {
          "output_type": "stream",
          "name": "stdout",
          "text": [
            "3.7\n",
            "2.8.2\n",
            "1.2.0\n"
          ]
        }
      ]
    },
    {
      "cell_type": "markdown",
      "source": [
        "그리고 또 첫번째 구문에서 `importlib`와 `metadata` 사이에 있는 `.`을 `_`로 바꿔야 한다. 이유는 잘 모르겠으나 코랩으로 넘어오면 그런 듯 하다. 그냥 받아들이고 암기하자!!!"
      ],
      "metadata": {
        "id": "UfWpGHvilASs"
      }
    },
    {
      "cell_type": "markdown",
      "source": [
        "# Step 1. 데이터 수집하기\n",
        "\n",
        "데이터는 아래 링크에 있는 뉴스 기사 데이터(news_summary_more.csv)를 사용할 예정~~\n",
        "\n",
        "뉴스기사 데이터 관련 링크 : https://github.com/sunnysai12345/News_Summary\n",
        "\n",
        "아래의 코드로 데이터를 다운로드할 수 있다."
      ],
      "metadata": {
        "id": "KxKexxSXlUVS"
      }
    },
    {
      "cell_type": "code",
      "source": [
        "import urllib.request\n",
        "urllib.request.urlretrieve(\"https://raw.githubusercontent.com/sunnysai12345/News_Summary/master/news_summary_more.csv\", filename=\"news_summary_more.csv\")\n",
        "data = pd.read_csv('news_summary_more.csv', encoding='iso-8859-1')"
      ],
      "metadata": {
        "id": "Gu-zznBfiSnM"
      },
      "execution_count": 3,
      "outputs": []
    },
    {
      "cell_type": "code",
      "source": [],
      "metadata": {
        "id": "QBFrzIVcoNR3"
      },
      "execution_count": null,
      "outputs": []
    },
    {
      "cell_type": "code",
      "source": [
        "print('전체 샘플 수 :', (len(data)))\n",
        "data.sample(10)"
      ],
      "metadata": {
        "colab": {
          "base_uri": "https://localhost:8080/",
          "height": 381
        },
        "id": "en61Ku3_i8k8",
        "outputId": "1c689f7a-cadd-42e4-d352-6a4ec32fc67f"
      },
      "execution_count": 4,
      "outputs": [
        {
          "output_type": "stream",
          "name": "stdout",
          "text": [
            "전체 샘플 수 : 98401\n"
          ]
        },
        {
          "output_type": "execute_result",
          "data": {
            "text/plain": [
              "                                               headlines  \\\n",
              "66346   Jio Payments Bank to launch in December: Reports   \n",
              "63859  Amaal responds to uncle Anu Malik's demand for...   \n",
              "43587  France issues arrest warrant against Saudi Kin...   \n",
              "64443  Maharashtra allows corporate donations for Mum...   \n",
              "889    186-year-old Asian conglomerate briefly loses ...   \n",
              "17428  Nothing was offered after 'Fifty Shades of Gre...   \n",
              "72619      In Pictures: Ram Rahim Singh's car collection   \n",
              "61825  CIA wrote code to pose as Russian anti-virus f...   \n",
              "84162  BCCI to invite more applications for India's c...   \n",
              "73242  Venezuela holds nationwide military drills ove...   \n",
              "\n",
              "                                                    text  \n",
              "66346  Jio Payments Bank, a 70:30 joint venture betwe...  \n",
              "63859  Responding to Anu Malik's statement that he sh...  \n",
              "43587  France has reportedly issued an international ...  \n",
              "64443  Maharashtra government on Tuesday issued a res...  \n",
              "889    Shares of Singapore-listed Jardine Matheson, a...  \n",
              "17428  Director Sam Taylor-Johnson, on being asked ab...  \n",
              "72619  Rape-convict Gurmeet Ram Rahim Singh owns a se...  \n",
              "61825  WikiLeaks has published the source code for th...  \n",
              "84162  BCCI has decided to invite more applications f...  \n",
              "73242  Venezuela is holding nationwide military drill...  "
            ],
            "text/html": [
              "\n",
              "  <div id=\"df-dd270291-ac8e-417a-a357-39e91d582835\">\n",
              "    <div class=\"colab-df-container\">\n",
              "      <div>\n",
              "<style scoped>\n",
              "    .dataframe tbody tr th:only-of-type {\n",
              "        vertical-align: middle;\n",
              "    }\n",
              "\n",
              "    .dataframe tbody tr th {\n",
              "        vertical-align: top;\n",
              "    }\n",
              "\n",
              "    .dataframe thead th {\n",
              "        text-align: right;\n",
              "    }\n",
              "</style>\n",
              "<table border=\"1\" class=\"dataframe\">\n",
              "  <thead>\n",
              "    <tr style=\"text-align: right;\">\n",
              "      <th></th>\n",
              "      <th>headlines</th>\n",
              "      <th>text</th>\n",
              "    </tr>\n",
              "  </thead>\n",
              "  <tbody>\n",
              "    <tr>\n",
              "      <th>66346</th>\n",
              "      <td>Jio Payments Bank to launch in December: Reports</td>\n",
              "      <td>Jio Payments Bank, a 70:30 joint venture betwe...</td>\n",
              "    </tr>\n",
              "    <tr>\n",
              "      <th>63859</th>\n",
              "      <td>Amaal responds to uncle Anu Malik's demand for...</td>\n",
              "      <td>Responding to Anu Malik's statement that he sh...</td>\n",
              "    </tr>\n",
              "    <tr>\n",
              "      <th>43587</th>\n",
              "      <td>France issues arrest warrant against Saudi Kin...</td>\n",
              "      <td>France has reportedly issued an international ...</td>\n",
              "    </tr>\n",
              "    <tr>\n",
              "      <th>64443</th>\n",
              "      <td>Maharashtra allows corporate donations for Mum...</td>\n",
              "      <td>Maharashtra government on Tuesday issued a res...</td>\n",
              "    </tr>\n",
              "    <tr>\n",
              "      <th>889</th>\n",
              "      <td>186-year-old Asian conglomerate briefly loses ...</td>\n",
              "      <td>Shares of Singapore-listed Jardine Matheson, a...</td>\n",
              "    </tr>\n",
              "    <tr>\n",
              "      <th>17428</th>\n",
              "      <td>Nothing was offered after 'Fifty Shades of Gre...</td>\n",
              "      <td>Director Sam Taylor-Johnson, on being asked ab...</td>\n",
              "    </tr>\n",
              "    <tr>\n",
              "      <th>72619</th>\n",
              "      <td>In Pictures: Ram Rahim Singh's car collection</td>\n",
              "      <td>Rape-convict Gurmeet Ram Rahim Singh owns a se...</td>\n",
              "    </tr>\n",
              "    <tr>\n",
              "      <th>61825</th>\n",
              "      <td>CIA wrote code to pose as Russian anti-virus f...</td>\n",
              "      <td>WikiLeaks has published the source code for th...</td>\n",
              "    </tr>\n",
              "    <tr>\n",
              "      <th>84162</th>\n",
              "      <td>BCCI to invite more applications for India's c...</td>\n",
              "      <td>BCCI has decided to invite more applications f...</td>\n",
              "    </tr>\n",
              "    <tr>\n",
              "      <th>73242</th>\n",
              "      <td>Venezuela holds nationwide military drills ove...</td>\n",
              "      <td>Venezuela is holding nationwide military drill...</td>\n",
              "    </tr>\n",
              "  </tbody>\n",
              "</table>\n",
              "</div>\n",
              "      <button class=\"colab-df-convert\" onclick=\"convertToInteractive('df-dd270291-ac8e-417a-a357-39e91d582835')\"\n",
              "              title=\"Convert this dataframe to an interactive table.\"\n",
              "              style=\"display:none;\">\n",
              "        \n",
              "  <svg xmlns=\"http://www.w3.org/2000/svg\" height=\"24px\"viewBox=\"0 0 24 24\"\n",
              "       width=\"24px\">\n",
              "    <path d=\"M0 0h24v24H0V0z\" fill=\"none\"/>\n",
              "    <path d=\"M18.56 5.44l.94 2.06.94-2.06 2.06-.94-2.06-.94-.94-2.06-.94 2.06-2.06.94zm-11 1L8.5 8.5l.94-2.06 2.06-.94-2.06-.94L8.5 2.5l-.94 2.06-2.06.94zm10 10l.94 2.06.94-2.06 2.06-.94-2.06-.94-.94-2.06-.94 2.06-2.06.94z\"/><path d=\"M17.41 7.96l-1.37-1.37c-.4-.4-.92-.59-1.43-.59-.52 0-1.04.2-1.43.59L10.3 9.45l-7.72 7.72c-.78.78-.78 2.05 0 2.83L4 21.41c.39.39.9.59 1.41.59.51 0 1.02-.2 1.41-.59l7.78-7.78 2.81-2.81c.8-.78.8-2.07 0-2.86zM5.41 20L4 18.59l7.72-7.72 1.47 1.35L5.41 20z\"/>\n",
              "  </svg>\n",
              "      </button>\n",
              "      \n",
              "  <style>\n",
              "    .colab-df-container {\n",
              "      display:flex;\n",
              "      flex-wrap:wrap;\n",
              "      gap: 12px;\n",
              "    }\n",
              "\n",
              "    .colab-df-convert {\n",
              "      background-color: #E8F0FE;\n",
              "      border: none;\n",
              "      border-radius: 50%;\n",
              "      cursor: pointer;\n",
              "      display: none;\n",
              "      fill: #1967D2;\n",
              "      height: 32px;\n",
              "      padding: 0 0 0 0;\n",
              "      width: 32px;\n",
              "    }\n",
              "\n",
              "    .colab-df-convert:hover {\n",
              "      background-color: #E2EBFA;\n",
              "      box-shadow: 0px 1px 2px rgba(60, 64, 67, 0.3), 0px 1px 3px 1px rgba(60, 64, 67, 0.15);\n",
              "      fill: #174EA6;\n",
              "    }\n",
              "\n",
              "    [theme=dark] .colab-df-convert {\n",
              "      background-color: #3B4455;\n",
              "      fill: #D2E3FC;\n",
              "    }\n",
              "\n",
              "    [theme=dark] .colab-df-convert:hover {\n",
              "      background-color: #434B5C;\n",
              "      box-shadow: 0px 1px 3px 1px rgba(0, 0, 0, 0.15);\n",
              "      filter: drop-shadow(0px 1px 2px rgba(0, 0, 0, 0.3));\n",
              "      fill: #FFFFFF;\n",
              "    }\n",
              "  </style>\n",
              "\n",
              "      <script>\n",
              "        const buttonEl =\n",
              "          document.querySelector('#df-dd270291-ac8e-417a-a357-39e91d582835 button.colab-df-convert');\n",
              "        buttonEl.style.display =\n",
              "          google.colab.kernel.accessAllowed ? 'block' : 'none';\n",
              "\n",
              "        async function convertToInteractive(key) {\n",
              "          const element = document.querySelector('#df-dd270291-ac8e-417a-a357-39e91d582835');\n",
              "          const dataTable =\n",
              "            await google.colab.kernel.invokeFunction('convertToInteractive',\n",
              "                                                     [key], {});\n",
              "          if (!dataTable) return;\n",
              "\n",
              "          const docLinkHtml = 'Like what you see? Visit the ' +\n",
              "            '<a target=\"_blank\" href=https://colab.research.google.com/notebooks/data_table.ipynb>data table notebook</a>'\n",
              "            + ' to learn more about interactive tables.';\n",
              "          element.innerHTML = '';\n",
              "          dataTable['output_type'] = 'display_data';\n",
              "          await google.colab.output.renderOutput(dataTable, element);\n",
              "          const docLink = document.createElement('div');\n",
              "          docLink.innerHTML = docLinkHtml;\n",
              "          element.appendChild(docLink);\n",
              "        }\n",
              "      </script>\n",
              "    </div>\n",
              "  </div>\n",
              "  "
            ]
          },
          "metadata": {},
          "execution_count": 4
        }
      ]
    },
    {
      "cell_type": "markdown",
      "source": [
        "이 데이터는 기사의 본문에 해당되는 text와 headlines 두 가지 열로 구성되어져 있다!!\n",
        "\n",
        "추상적 요약을 하는 경우에는 text를 본문, headlines를 이미 요약된 데이터로 삼아서 모델을 학습할 수 있다. 추출적 요약을 하는 경우에는 오직 text열만을 사용한다."
      ],
      "metadata": {
        "id": "eOKHiq_RHQmt"
      }
    },
    {
      "cell_type": "markdown",
      "source": [
        "# Step 2. 데이터 전처리\n",
        "\n",
        "실습에서 사용된 전처리를 참고하여 각자 필요하다고 생각하는 전처리를 추가 사용하여 텍스트를 정규화 또는 정제해 보는데, 만약 불용어 제거를 선택한다면 상대적으로 길이가 짧은 요약 데이터에 대해서도 불용어를 제거하는 것이 좋을지 고민해 보라고 한다. 이건 이전 노드에서 어려움을 겪은 후 그 다음에 늦게서야 진행하는 노드라 고민할 겨를이 없긴 했지만 이전 루트를 최대한 따라가 보고자 노력했다. 혹은 이전 선배 그루 분께서 작성하신 노드를 필사하듯이 해 보기도 했다.\n",
        "\n",
        "선배 그루 분의 뉴스 요약봇 링크 : https://github.com/JaeHeee/AIFFEL_Project/blob/master/EXPLORATION/EXPLORATION%2018.%20%EB%89%B4%EC%8A%A4%20%EC%9A%94%EC%95%BD%EB%B4%87%20%EB%A7%8C%EB%93%A4%EA%B8%B0.ipynb"
      ],
      "metadata": {
        "id": "rdErZKT3HacP"
      }
    },
    {
      "cell_type": "code",
      "source": [
        "print('headlines 열에서 중복을 배제한 유일한 샘플의 수 :', data['headlines'].nunique())\n",
        "print('text 열에서 중복을 배제한 유일한 샘플의 수 :', data['text'].nunique())"
      ],
      "metadata": {
        "colab": {
          "base_uri": "https://localhost:8080/"
        },
        "id": "mS8q-4FwHZ9L",
        "outputId": "68b79788-ffae-42ef-85a1-4789aa46a92d"
      },
      "execution_count": 5,
      "outputs": [
        {
          "output_type": "stream",
          "name": "stdout",
          "text": [
            "headlines 열에서 중복을 배제한 유일한 샘플의 수 : 98280\n",
            "text 열에서 중복을 배제한 유일한 샘플의 수 : 98360\n"
          ]
        }
      ]
    },
    {
      "cell_type": "markdown",
      "source": [
        "중복을 제외한다면 headline에는 98,280개, text에는 98,360개의 유니크한 데이터가 존재한다. 하지만 text 자체가 중복이 된 경우는 중복 샘플이므로 제거해야한다."
      ],
      "metadata": {
        "id": "dUuMzjy_KEQP"
      }
    },
    {
      "cell_type": "code",
      "source": [
        "# inplace=True 를 설정하면 DataFrame 타입 값을 return 하지 않고 data 내부를 직접적으로 바꿉니다\n",
        "data.drop_duplicates(subset = ['text'], inplace=True)\n",
        "print('전체 샘플수 :', (len(data)))"
      ],
      "metadata": {
        "id": "4YQ2z-uhjF-7",
        "colab": {
          "base_uri": "https://localhost:8080/"
        },
        "outputId": "ab7f33b6-e4dd-4643-a4b2-8af710d61cc0"
      },
      "execution_count": 6,
      "outputs": [
        {
          "output_type": "stream",
          "name": "stdout",
          "text": [
            "전체 샘플수 : 98360\n"
          ]
        }
      ]
    },
    {
      "cell_type": "markdown",
      "source": [
        "중복이 제거되면서 샘플 수가 98,360개로 줄어들었다. 근데 만약 Null 값을 가지는 샘플이 있다면, drop_duplicates()가 중복된 Null들을 지워주기야 하겠지만, 여전히 Null 값 한 개가 어딘가 남아있을 수도 있다. 때문에 Null값이 남아있는지를 확인해야 한다."
      ],
      "metadata": {
        "id": "X3ZHfR55KoW0"
      }
    },
    {
      "cell_type": "code",
      "source": [
        "print(data.isnull().sum())"
      ],
      "metadata": {
        "colab": {
          "base_uri": "https://localhost:8080/"
        },
        "id": "9Qno4JenKkoy",
        "outputId": "3bc7b625-7496-4a88-9bff-854899139c5a"
      },
      "execution_count": 7,
      "outputs": [
        {
          "output_type": "stream",
          "name": "stdout",
          "text": [
            "headlines    0\n",
            "text         0\n",
            "dtype: int64\n"
          ]
        }
      ]
    },
    {
      "cell_type": "markdown",
      "source": [
        "일단 Null 값이 없는 걸 확인했고 본격적으로 텍스트 정규화 및 불용어 제거 등 데이터 전처리 과정을 진행코자 한다."
      ],
      "metadata": {
        "id": "Kvuj_zjnKwKj"
      }
    },
    {
      "cell_type": "markdown",
      "source": [
        "## (1) 텍스트 정규화와 불용어 제거\n",
        "\n",
        "살아남은 98,360개의 샘플에는 수많은 단어들이 있다. 근데 사실 그 중에는 같은 단어인데도 다른 표현으로 쓰여 마치 다른 단어들처럼 간주되는 경우도 있다.\n",
        "\n",
        "예를 들어 it'll은 it will과 같고, mustn't는 must not과 같은 표현이다. 이런 경우 기계가 굳이 이들을 마치 다른 단어로 간주하게 해서 연산량을 늘리는 것보다는 기계 학습 전에 미리 같은 표현으로 통일시켜주는 것이 기계의 연산량을 줄일 수 있는 방법이 될 것이다.\n",
        "\n",
        "이러한 방법론을 텍스트 처리에서는 텍스트 정규화(text normalization)라고 한다.\n",
        "\n",
        "여기서는 텍스트 정규화를 위한 사전(dictionary)을 아래와 같이 구성하고자 한다. 이 사전은 아래의 링크에서 참고하여 만들었다.\n",
        "\n",
        "정규화 사전 출처 : https://stackoverflow.com/questions/19790188/expanding-english-language-contractions-in-python"
      ],
      "metadata": {
        "id": "3LByLMiMK-tA"
      }
    },
    {
      "cell_type": "code",
      "source": [
        "# 따라치기 다소 번거로울 정도로 많으니 일단 복붙하고 찬찬히 들여다 볼 것!!\n",
        "contractions = {\"ain't\": \"is not\", \"aren't\": \"are not\",\"can't\": \"cannot\", \"'cause\": \"because\", \"could've\": \"could have\", \"couldn't\": \"could not\",\n",
        "                           \"didn't\": \"did not\",  \"doesn't\": \"does not\", \"don't\": \"do not\", \"hadn't\": \"had not\", \"hasn't\": \"has not\", \"haven't\": \"have not\",\n",
        "                           \"he'd\": \"he would\",\"he'll\": \"he will\", \"he's\": \"he is\", \"how'd\": \"how did\", \"how'd'y\": \"how do you\", \"how'll\": \"how will\", \"how's\": \"how is\",\n",
        "                           \"I'd\": \"I would\", \"I'd've\": \"I would have\", \"I'll\": \"I will\", \"I'll've\": \"I will have\",\"I'm\": \"I am\", \"I've\": \"I have\", \"i'd\": \"i would\",\n",
        "                           \"i'd've\": \"i would have\", \"i'll\": \"i will\",  \"i'll've\": \"i will have\",\"i'm\": \"i am\", \"i've\": \"i have\", \"isn't\": \"is not\", \"it'd\": \"it would\",\n",
        "                           \"it'd've\": \"it would have\", \"it'll\": \"it will\", \"it'll've\": \"it will have\",\"it's\": \"it is\", \"let's\": \"let us\", \"ma'am\": \"madam\",\n",
        "                           \"mayn't\": \"may not\", \"might've\": \"might have\",\"mightn't\": \"might not\",\"mightn't've\": \"might not have\", \"must've\": \"must have\",\n",
        "                           \"mustn't\": \"must not\", \"mustn't've\": \"must not have\", \"needn't\": \"need not\", \"needn't've\": \"need not have\",\"o'clock\": \"of the clock\",\n",
        "                           \"oughtn't\": \"ought not\", \"oughtn't've\": \"ought not have\", \"shan't\": \"shall not\", \"sha'n't\": \"shall not\", \"shan't've\": \"shall not have\",\n",
        "                           \"she'd\": \"she would\", \"she'd've\": \"she would have\", \"she'll\": \"she will\", \"she'll've\": \"she will have\", \"she's\": \"she is\",\n",
        "                           \"should've\": \"should have\", \"shouldn't\": \"should not\", \"shouldn't've\": \"should not have\", \"so've\": \"so have\",\"so's\": \"so as\",\n",
        "                           \"this's\": \"this is\",\"that'd\": \"that would\", \"that'd've\": \"that would have\", \"that's\": \"that is\", \"there'd\": \"there would\",\n",
        "                           \"there'd've\": \"there would have\", \"there's\": \"there is\", \"here's\": \"here is\",\"they'd\": \"they would\", \"they'd've\": \"they would have\",\n",
        "                           \"they'll\": \"they will\", \"they'll've\": \"they will have\", \"they're\": \"they are\", \"they've\": \"they have\", \"to've\": \"to have\",\n",
        "                           \"wasn't\": \"was not\", \"we'd\": \"we would\", \"we'd've\": \"we would have\", \"we'll\": \"we will\", \"we'll've\": \"we will have\", \"we're\": \"we are\",\n",
        "                           \"we've\": \"we have\", \"weren't\": \"were not\", \"what'll\": \"what will\", \"what'll've\": \"what will have\", \"what're\": \"what are\",\n",
        "                           \"what's\": \"what is\", \"what've\": \"what have\", \"when's\": \"when is\", \"when've\": \"when have\", \"where'd\": \"where did\", \"where's\": \"where is\",\n",
        "                           \"where've\": \"where have\", \"who'll\": \"who will\", \"who'll've\": \"who will have\", \"who's\": \"who is\", \"who've\": \"who have\",\n",
        "                           \"why's\": \"why is\", \"why've\": \"why have\", \"will've\": \"will have\", \"won't\": \"will not\", \"won't've\": \"will not have\",\n",
        "                           \"would've\": \"would have\", \"wouldn't\": \"would not\", \"wouldn't've\": \"would not have\", \"y'all\": \"you all\",\n",
        "                           \"y'all'd\": \"you all would\",\"y'all'd've\": \"you all would have\",\"y'all're\": \"you all are\",\"y'all've\": \"you all have\",\n",
        "                           \"you'd\": \"you would\", \"you'd've\": \"you would have\", \"you'll\": \"you will\", \"you'll've\": \"you will have\",\n",
        "                           \"you're\": \"you are\", \"you've\": \"you have\"}\n",
        "\n",
        "print(\"정규화 사전의 수: \", len(contractions))"
      ],
      "metadata": {
        "colab": {
          "base_uri": "https://localhost:8080/"
        },
        "id": "HKKOQimEKurZ",
        "outputId": "5275ee8f-42c2-4131-a25a-6b9c5418a760"
      },
      "execution_count": 8,
      "outputs": [
        {
          "output_type": "stream",
          "name": "stdout",
          "text": [
            "정규화 사전의 수:  120\n"
          ]
        }
      ]
    },
    {
      "cell_type": "markdown",
      "source": [
        "정규화 준비까지 마쳤지만 아직 끝난 게 아니다. 일반적으로 텍스트에는 자주 등장하지만 자연어 처리를 할 때 실질적으로 도움이 안 되는 단어들이 있다. 이를 불용어(stopwords)라고 한다. 때로는 불용어를 제거하는 것이 자연어 처리의 성능을 높이는 방법이 될 것이다. 여기서는 NLTK에서 제공하는 불용어 리스트를 참조해, 샘플에서 불용어를 제거한다."
      ],
      "metadata": {
        "id": "0LefmxKZLSuG"
      }
    },
    {
      "cell_type": "code",
      "source": [
        "print('불용어 개수 :', len(stopwords.words('english') ))\n",
        "print(stopwords.words('english'))"
      ],
      "metadata": {
        "colab": {
          "base_uri": "https://localhost:8080/"
        },
        "id": "xYY6G_gPLUq7",
        "outputId": "3bdeaf50-e903-4c97-d664-0d456e9a3f19"
      },
      "execution_count": 9,
      "outputs": [
        {
          "output_type": "stream",
          "name": "stdout",
          "text": [
            "불용어 개수 : 179\n",
            "['i', 'me', 'my', 'myself', 'we', 'our', 'ours', 'ourselves', 'you', \"you're\", \"you've\", \"you'll\", \"you'd\", 'your', 'yours', 'yourself', 'yourselves', 'he', 'him', 'his', 'himself', 'she', \"she's\", 'her', 'hers', 'herself', 'it', \"it's\", 'its', 'itself', 'they', 'them', 'their', 'theirs', 'themselves', 'what', 'which', 'who', 'whom', 'this', 'that', \"that'll\", 'these', 'those', 'am', 'is', 'are', 'was', 'were', 'be', 'been', 'being', 'have', 'has', 'had', 'having', 'do', 'does', 'did', 'doing', 'a', 'an', 'the', 'and', 'but', 'if', 'or', 'because', 'as', 'until', 'while', 'of', 'at', 'by', 'for', 'with', 'about', 'against', 'between', 'into', 'through', 'during', 'before', 'after', 'above', 'below', 'to', 'from', 'up', 'down', 'in', 'out', 'on', 'off', 'over', 'under', 'again', 'further', 'then', 'once', 'here', 'there', 'when', 'where', 'why', 'how', 'all', 'any', 'both', 'each', 'few', 'more', 'most', 'other', 'some', 'such', 'no', 'nor', 'not', 'only', 'own', 'same', 'so', 'than', 'too', 'very', 's', 't', 'can', 'will', 'just', 'don', \"don't\", 'should', \"should've\", 'now', 'd', 'll', 'm', 'o', 're', 've', 'y', 'ain', 'aren', \"aren't\", 'couldn', \"couldn't\", 'didn', \"didn't\", 'doesn', \"doesn't\", 'hadn', \"hadn't\", 'hasn', \"hasn't\", 'haven', \"haven't\", 'isn', \"isn't\", 'ma', 'mightn', \"mightn't\", 'mustn', \"mustn't\", 'needn', \"needn't\", 'shan', \"shan't\", 'shouldn', \"shouldn't\", 'wasn', \"wasn't\", 'weren', \"weren't\", 'won', \"won't\", 'wouldn', \"wouldn't\"]\n"
          ]
        }
      ]
    },
    {
      "cell_type": "markdown",
      "source": [
        "NLTK에서 미리 정의하여 제공하고 있는 불용어는 총 179개라는 걸 알 수 있다. 이를 사용해 불용어를 제거할 건데 이 작업 외에도 모든 영어 문자는 소문자로 만들고, 섞여있는 html 태그를 제거하고, 정규 표현식을 통해 각종 특수문자를 제거해서 정말 필요한 내용만 잘 학습할 수 있도록 처리하는 과정까지를 모두 거친다.  \n",
        "\n",
        "함수의 하단을 보면, NLTK를 이용해 불용어를 제거하는 파트가 있는데, 이는 Text 전처리 시에서만 호출하고 이미 상대적으로 문장 길이가 짧은 Summary 전처리를 할 때는 호출하지 않을 예정이다. Abstractive(추상적인)한 문장 요약 결과문이 자연스러운 문장이 되려면 이 불용어들이 Summary에는 남아 있는 게 좋을 거 같다. 이 처리를 위해서 함수의 인자로 remove_stopwords를 추가하고 if문을 추가했다."
      ],
      "metadata": {
        "id": "AWvcuznloUpv"
      }
    },
    {
      "cell_type": "code",
      "source": [
        "# 데이터 전처리 함수\n",
        "def preprocess_sentence(sentence, remove_stopwords=True):\n",
        "    sentence = sentence.lower() # 텍스트 소문자화\n",
        "    sentence = BeautifulSoup(sentence, \"lxml\").text # <br />, <a href = ...> 등의 html 태그 제거\n",
        "    sentence = re.sub(r'\\([^)]*\\)', '', sentence) # 괄호로 닫힌 문자열 (...) 제거 Ex) my husband (and myself!) for => my husband for\n",
        "    sentence = re.sub('\"','', sentence) # 쌍따옴표 \" 제거\n",
        "    sentence = ' '.join([contractions[t] if t in contractions else t for t in sentence.split(\" \")]) # 약어 정규화\n",
        "    sentence = re.sub(r\"'s\\b\",\"\", sentence) # 소유격 제거. Ex) roland's -> roland\n",
        "    sentence = re.sub(\"[^a-zA-Z]\", \" \", sentence) # 영어 외 문자(숫자, 특수문자 등) 공백으로 변환\n",
        "    sentence = re.sub('[m]{2,}', 'mm', sentence) # m이 3개 이상이면 2개로 변경. Ex) ummmmmmm yeah -> umm yeah\n",
        "    \n",
        "    # 불용어 제거 (Text)\n",
        "    if remove_stopwords:\n",
        "        tokens = ' '.join(word for word in sentence.split() if not word in stopwords.words('english') if len(word) > 1)\n",
        "    # 불용어 미제거 (Summary)\n",
        "    else:\n",
        "        tokens = ' '.join(word for word in sentence.split() if len(word) > 1)\n",
        "    return tokens"
      ],
      "metadata": {
        "id": "FEdoxrQCLVRJ"
      },
      "execution_count": 10,
      "outputs": []
    },
    {
      "cell_type": "code",
      "source": [
        "temp_text = data['text'][0]\n",
        "temp_headlines = data['headlines'][0]\n",
        "\n",
        "print(temp_text)\n",
        "print(temp_headlines)\n",
        "print()\n",
        "print(preprocess_sentence(temp_text))\n",
        "print(preprocess_sentence(temp_headlines, False))  # 불용어를 제거하지 않습니다."
      ],
      "metadata": {
        "colab": {
          "base_uri": "https://localhost:8080/"
        },
        "id": "3ASQMOb0qXS7",
        "outputId": "f0e0bf26-bcce-4d21-ba3e-fab4a03c3d08"
      },
      "execution_count": 11,
      "outputs": [
        {
          "output_type": "stream",
          "name": "stdout",
          "text": [
            "Saurav Kant, an alumnus of upGrad and IIIT-B's PG Program in Machine learning and Artificial Intelligence, was a Sr Systems Engineer at Infosys with almost 5 years of work experience. The program and upGrad's 360-degree career support helped him transition to a Data Scientist at Tech Mahindra with 90% salary hike. upGrad's Online Power Learning has powered 3 lakh+ careers.\n",
            "upGrad learner switches to career in ML & Al with 90% salary hike\n",
            "\n",
            "saurav kant alumnus upgrad iiit pg program machine learning artificial intelligence sr systems engineer infosys almost years work experience program upgrad degree career support helped transition data scientist tech mahindra salary hike upgrad online power learning powered lakh careers\n",
            "upgrad learner switches to career in ml al with salary hike\n"
          ]
        }
      ]
    },
    {
      "cell_type": "markdown",
      "source": [
        "이제 함수가 잘 작동하는 것을 확인했으니, 훈련 데이터 전체에 대해서 전처리를 수행한다. 이 때 Text의 경우에는 불용어를 제거하고, Summary의 경우에는 불용어를 제거하지 않을 것이므로 따로 호출해서 진행해야 한다. 먼저 Text를 전처리하고, 결과를 확인하기 위해서 상위 5개의 줄을 출력해 본다.\n"
      ],
      "metadata": {
        "id": "w3dwEkZYqe_q"
      }
    },
    {
      "cell_type": "code",
      "source": [
        "clean_text = []\n",
        "# 전체 Text 데이터에 대한 전처리 : 10분 이상 시간이 걸릴 수 있습니다. \n",
        "for s in data['text']:\n",
        "    clean_text.append(preprocess_sentence(s))\n",
        "\n",
        "# 전처리 후 출력\n",
        "print(\"Text 전처리 후 결과: \", clean_text[:5])"
      ],
      "metadata": {
        "colab": {
          "base_uri": "https://localhost:8080/"
        },
        "id": "4V9lLp2dqX7I",
        "outputId": "519a3f7f-2b07-4d3c-a45a-5619a4282de6"
      },
      "execution_count": 12,
      "outputs": [
        {
          "output_type": "stream",
          "name": "stdout",
          "text": [
            "Text 전처리 후 결과:  ['saurav kant alumnus upgrad iiit pg program machine learning artificial intelligence sr systems engineer infosys almost years work experience program upgrad degree career support helped transition data scientist tech mahindra salary hike upgrad online power learning powered lakh careers', 'kunal shah credit card bill payment platform cred gave users chance win free food swiggy one year pranav kaushik delhi techie bagged reward spending cred coins users get one cred coin per rupee bill paid used avail rewards brands like ixigo bookmyshow ubereats cult fit', 'new zealand defeated india wickets fourth odi hamilton thursday win first match five match odi series india lost international match rohit sharma captaincy consecutive victories dating back march match witnessed india getting seventh lowest total odi cricket history', 'aegon life iterm insurance plan customers enjoy tax benefits premiums paid save taxes plan provides life cover age years also customers options insure critical illnesses disability accidental death benefit rider life cover age years', 'speaking sexual harassment allegations rajkumar hirani sonam kapoor said known hirani many years true metoo movement get derailed metoo movement always believe woman case need reserve judgment added hirani accused assistant worked sanju']\n"
          ]
        }
      ]
    },
    {
      "cell_type": "code",
      "source": [
        "clean_headlines = []\n",
        "\n",
        "# 전체 Summary 데이터에 대한 전처리 : 5분 이상 시간이 걸릴 수 있습니다. \n",
        "for s in data['headlines']:\n",
        "    clean_headlines.append(preprocess_sentence(s, False))\n",
        "\n",
        "clean_headlines[:5]"
      ],
      "metadata": {
        "colab": {
          "base_uri": "https://localhost:8080/"
        },
        "id": "LHPkvMWBrmRR",
        "outputId": "6c957c79-19ec-4d4c-c675-93f6a426722e"
      },
      "execution_count": 13,
      "outputs": [
        {
          "output_type": "execute_result",
          "data": {
            "text/plain": [
              "['upgrad learner switches to career in ml al with salary hike',\n",
              " 'delhi techie wins free food from swiggy for one year on cred',\n",
              " 'new zealand end rohit sharma led india match winning streak',\n",
              " 'aegon life iterm insurance plan helps customers save tax',\n",
              " 'have known hirani for yrs what if metoo claims are not true sonam']"
            ]
          },
          "metadata": {},
          "execution_count": 13
        }
      ]
    },
    {
      "cell_type": "markdown",
      "source": [
        "텍스트 정제를 했지만 다시 한번 빈(empty) 샘플이 생겼을 수도 있으니 확인해 봐야 한다. 데이터가 존재했지만 정제 과정에서 문장의 모든 단어가 사라지는 경우가 있을 수도 있다. 이렇게 되면 샘플 자체가 빈 값을 가지게 된다.\n",
        "\n",
        "보다 쉽게 확인해보기 위해 데이터들을 데이터프레임에 재저장하고, 빈(empty) 값을 가진 샘플들이 있다면, 모두 Null 값을 가진 샘플로 대체한다."
      ],
      "metadata": {
        "id": "6CoaOBcmr1t5"
      }
    },
    {
      "cell_type": "code",
      "source": [
        "data['text'] = clean_text\n",
        "data['headlines'] = clean_headlines\n",
        "\n",
        "# 빈 값을 Null 값으로 변환\n",
        "data.replace('', np.nan, inplace=True)"
      ],
      "metadata": {
        "id": "1tM0fCitqnZP"
      },
      "execution_count": 14,
      "outputs": []
    },
    {
      "cell_type": "code",
      "source": [
        "data.isnull().sum()"
      ],
      "metadata": {
        "colab": {
          "base_uri": "https://localhost:8080/"
        },
        "id": "q9qUBWsery7-",
        "outputId": "080de734-3f23-4823-a623-782f0d601078"
      },
      "execution_count": 15,
      "outputs": [
        {
          "output_type": "execute_result",
          "data": {
            "text/plain": [
              "headlines    0\n",
              "text         0\n",
              "dtype: int64"
            ]
          },
          "metadata": {},
          "execution_count": 15
        }
      ]
    },
    {
      "cell_type": "code",
      "source": [
        "data.dropna(axis=0, inplace=True)\n",
        "print('전체 샘플수 :',(len(data)))#데이터 전처리 함수"
      ],
      "metadata": {
        "colab": {
          "base_uri": "https://localhost:8080/"
        },
        "id": "Ose5TRL6snII",
        "outputId": "6185f500-aa33-4d5c-d187-0a4e281ad928"
      },
      "execution_count": 16,
      "outputs": [
        {
          "output_type": "stream",
          "name": "stdout",
          "text": [
            "전체 샘플수 : 98360\n"
          ]
        }
      ]
    },
    {
      "cell_type": "markdown",
      "source": [
        "## (2) 훈련 데이터의 샘플 길이 정하기\n",
        "\n",
        "필요 없는 단어를 모두 솎아낸 데이터를 가지게 되었으니, 이제 훈련에 사용할 샘플의 최대 길이를 정해야 한다. 일단 Text와 Summary의 최소, 최대, 평균 길이를 구하고 또한 길이 분포를 시각화해서 확인해보자."
      ],
      "metadata": {
        "id": "eDSU9tXEsq51"
      }
    },
    {
      "cell_type": "code",
      "source": [
        "# 길이 분포 출력\n",
        "\n",
        "text_len = [len(s.split()) for s in data['text']]\n",
        "headlines_len = [len(s.split()) for s in data['headlines']]\n",
        "\n",
        "print('텍스트의 최소 길이 : {}'.format(np.min(text_len)))\n",
        "print('텍스트의 최대 길이 : {}'.format(np.max(text_len)))\n",
        "print('텍스트의 평균 길이 : {}'.format(np.mean(text_len)))\n",
        "print('요약의 최소 길이 : {}'.format(np.min(headlines_len)))\n",
        "print('요약의 최대 길이 : {}'.format(np.max(headlines_len)))\n",
        "print('요약의 평균 길이 : {}'.format(np.mean(headlines_len)))\n",
        "\n",
        "plt.subplot(1,2,1)\n",
        "plt.boxplot(headlines_len)\n",
        "plt.title('headlines')\n",
        "plt.subplot(1,2,2)\n",
        "plt.boxplot(text_len)\n",
        "plt.title('Text')\n",
        "plt.tight_layout()\n",
        "plt.show()\n",
        "\n",
        "plt.title('headlines')\n",
        "plt.hist(headlines_len, bins = 40)\n",
        "plt.xlabel('length of samples')\n",
        "plt.ylabel('number of samples')\n",
        "plt.show()\n",
        "\n",
        "plt.title('Text')\n",
        "plt.hist(text_len, bins = 40)\n",
        "plt.xlabel('length of samples')\n",
        "plt.ylabel('number of samples')\n",
        "plt.show()"
      ],
      "metadata": {
        "colab": {
          "base_uri": "https://localhost:8080/",
          "height": 962
        },
        "id": "Eji7CGDQtQ90",
        "outputId": "d9866437-e4b2-44a9-c1a8-f630cdf8e723"
      },
      "execution_count": 17,
      "outputs": [
        {
          "output_type": "stream",
          "name": "stdout",
          "text": [
            "텍스트의 최소 길이 : 1\n",
            "텍스트의 최대 길이 : 60\n",
            "텍스트의 평균 길이 : 35.09968483123221\n",
            "요약의 최소 길이 : 1\n",
            "요약의 최대 길이 : 16\n",
            "요약의 평균 길이 : 9.299532330215534\n"
          ]
        },
        {
          "output_type": "display_data",
          "data": {
            "text/plain": [
              "<Figure size 432x288 with 2 Axes>"
            ],
            "image/png": "[encoded data removed]"
          },
          "metadata": {
            "needs_background": "light"
          }
        },
        {
          "output_type": "display_data",
          "data": {
            "text/plain": [
              "<Figure size 432x288 with 1 Axes>"
            ],
            "image/png": "[encoded data removed]"
          },
          "metadata": {
            "needs_background": "light"
          }
        },
        {
          "output_type": "display_data",
          "data": {
            "text/plain": [
              "<Figure size 432x288 with 1 Axes>"
            ],
            "image/png": "[encoded data removed]"
          },
          "metadata": {
            "needs_background": "light"
          }
        }
      ]
    },
    {
      "cell_type": "markdown",
      "source": [
        "위의 그래프처럼, 많은 양의 데이터를 다룰 때는 데이터를 시각화해서 보는 것이 좋다. 위에서부터 차례대로 그래프는 각각 실제 텍스트와 요약의 길이 분포, 실제 텍스트 샘플 길이별 개수, 요약본 샘플 길이별 개수를 나타내고 있다.\n",
        "\n",
        "text의 경우 최소 길이가 1, 최대 길이가 60로 정도에 평균 길이는 38 정도로, 아까 연습할 때와는 달리 꽤나 정규분포에 가까운 형태라는 걸 알 수 있었다.\n",
        "\n",
        "headline의 경우 최소 길이가 1, 최대 길이가 16, 그리고 평균 길이가 9로 text에 비해 상대적으로 길이가 매우 짧다. 그래프를 보면 역시 밀도 분포가 정규 분포에 가까운 형태를 지님을 알 수 있었다.\n",
        "\n"
      ],
      "metadata": {
        "id": "-kkFzeDcuHk9"
      }
    },
    {
      "cell_type": "code",
      "source": [
        "text_max_len = 40\n",
        "headlines_max_len = 10"
      ],
      "metadata": {
        "id": "guVfkxiBuHDq"
      },
      "execution_count": 18,
      "outputs": []
    },
    {
      "cell_type": "code",
      "source": [
        "def below_threshold_len(max_len, nested_list):\n",
        "  cnt = 0\n",
        "  for s in nested_list:\n",
        "    if(len(s.split()) <= max_len):\n",
        "        cnt = cnt + 1\n",
        "  print('전체 샘플 중 길이가 %s 이하인 샘플의 비율: %s'%(max_len, (cnt / len(nested_list))))"
      ],
      "metadata": {
        "id": "HMu6TithvKl-"
      },
      "execution_count": 19,
      "outputs": []
    },
    {
      "cell_type": "code",
      "source": [
        "below_threshold_len(text_max_len, data['text'])\n",
        "below_threshold_len(headlines_max_len,  data['headlines'])"
      ],
      "metadata": {
        "colab": {
          "base_uri": "https://localhost:8080/"
        },
        "id": "rLE_KZomvPBr",
        "outputId": "45333d3b-4b31-495e-c639-9f3d394681fc"
      },
      "execution_count": 20,
      "outputs": [
        {
          "output_type": "stream",
          "name": "stdout",
          "text": [
            "전체 샘플 중 길이가 40 이하인 샘플의 비율: 0.9238714924766165\n",
            "전체 샘플 중 길이가 10 이하인 샘플의 비율: 0.8162972753151687\n"
          ]
        }
      ]
    },
    {
      "cell_type": "markdown",
      "source": [
        "각각 40과 10로 패딩을 하게 되면 해당 길이보다 긴 샘플들은 내용이 잘리게 되는데, headlines 열의 경우에는 약 81%의 데이터만 유지되고 나머지 19%의 샘플들이 내용이 망가지게 됨을 알 수 있다.\n",
        "\n",
        "우리는 정해진 길이에 맞춰 자르는 것이 아니라, 정해진 길이보다 길면 제외하는 방법으로 데이터를 정제해 보자."
      ],
      "metadata": {
        "id": "Rj7XJHghxweW"
      }
    },
    {
      "cell_type": "code",
      "source": [
        "data = data[data['text'].apply(lambda x: len(x.split()) <= text_max_len)]\n",
        "data = data[data['headlines'].apply(lambda x: len(x.split()) <= headlines_max_len)]\n",
        "print('전체 샘플수 :', (len(data)))"
      ],
      "metadata": {
        "colab": {
          "base_uri": "https://localhost:8080/"
        },
        "id": "YpSqEEIZxY9-",
        "outputId": "b56438f1-6e5c-4f90-b58b-554120de31b1"
      },
      "execution_count": 21,
      "outputs": [
        {
          "output_type": "stream",
          "name": "stdout",
          "text": [
            "전체 샘플수 : 74102\n"
          ]
        }
      ]
    },
    {
      "cell_type": "markdown",
      "source": [
        "## (3) 시작 토큰과 종료 토큰 추가하기\n",
        "\n",
        "seq2seq 훈련을 위해서는 디코더의 입력과 레이블에 시작 토큰과 종료 토큰을 추가할 필요가 있다. 이번 실습에서는 시작 토큰은 sostoken, 종료 토큰은 eostoken이라 임의로 명명하고 앞, 뒤로 추가할 것이다. 디코더의 입력에 해당하면서 시작 토큰이 맨 앞에 있는 문장의 이름을 decoder_input, 디코더의 출력 또는 레이블에 해당되면서 종료 토큰이 맨 뒤에 붙는 문장의 이름을 decoder_target이라고 이름을 정했다. 두 개의 문장 모두 headlines 열로부터 만들 것이다."
      ],
      "metadata": {
        "id": "BDWo03bFziv_"
      }
    },
    {
      "cell_type": "code",
      "source": [
        "# headlines 컬럼으로부터 시작 토큰과 종료 토큰을 추가한다.\n",
        "data['decoder_input'] = data['headlines'].apply(lambda x : 'sostoken '+ x)\n",
        "data['decoder_target'] = data['headlines'].apply(lambda x : x + ' eostoken')\n",
        "data.head()"
      ],
      "metadata": {
        "colab": {
          "base_uri": "https://localhost:8080/",
          "height": 206
        },
        "id": "aAPkp6gGyHeJ",
        "outputId": "54377d8e-5470-4c9d-8f8a-9c7faaee5744"
      },
      "execution_count": 22,
      "outputs": [
        {
          "output_type": "execute_result",
          "data": {
            "text/plain": [
              "                                            headlines  \\\n",
              "2   new zealand end rohit sharma led india match w...   \n",
              "3   aegon life iterm insurance plan helps customer...   \n",
              "5   rahat fateh ali khan denies getting notice for...   \n",
              "9   cong wins ramgarh bypoll in rajasthan takes to...   \n",
              "10  up cousins fed human excreta for friendship wi...   \n",
              "\n",
              "                                                 text  \\\n",
              "2   new zealand defeated india wickets fourth odi ...   \n",
              "3   aegon life iterm insurance plan customers enjo...   \n",
              "5   pakistani singer rahat fateh ali khan denied r...   \n",
              "9   congress candidate shafia zubair ramgarh assem...   \n",
              "10  two minor cousins uttar pradesh gorakhpur alle...   \n",
              "\n",
              "                                        decoder_input  \\\n",
              "2   sostoken new zealand end rohit sharma led indi...   \n",
              "3   sostoken aegon life iterm insurance plan helps...   \n",
              "5   sostoken rahat fateh ali khan denies getting n...   \n",
              "9   sostoken cong wins ramgarh bypoll in rajasthan...   \n",
              "10  sostoken up cousins fed human excreta for frie...   \n",
              "\n",
              "                                       decoder_target  \n",
              "2   new zealand end rohit sharma led india match w...  \n",
              "3   aegon life iterm insurance plan helps customer...  \n",
              "5   rahat fateh ali khan denies getting notice for...  \n",
              "9   cong wins ramgarh bypoll in rajasthan takes to...  \n",
              "10  up cousins fed human excreta for friendship wi...  "
            ],
            "text/html": [
              "\n",
              "  <div id=\"df-1e30389b-cb72-43ad-a197-8eb784572514\">\n",
              "    <div class=\"colab-df-container\">\n",
              "      <div>\n",
              "<style scoped>\n",
              "    .dataframe tbody tr th:only-of-type {\n",
              "        vertical-align: middle;\n",
              "    }\n",
              "\n",
              "    .dataframe tbody tr th {\n",
              "        vertical-align: top;\n",
              "    }\n",
              "\n",
              "    .dataframe thead th {\n",
              "        text-align: right;\n",
              "    }\n",
              "</style>\n",
              "<table border=\"1\" class=\"dataframe\">\n",
              "  <thead>\n",
              "    <tr style=\"text-align: right;\">\n",
              "      <th></th>\n",
              "      <th>headlines</th>\n",
              "      <th>text</th>\n",
              "      <th>decoder_input</th>\n",
              "      <th>decoder_target</th>\n",
              "    </tr>\n",
              "  </thead>\n",
              "  <tbody>\n",
              "    <tr>\n",
              "      <th>2</th>\n",
              "      <td>new zealand end rohit sharma led india match w...</td>\n",
              "      <td>new zealand defeated india wickets fourth odi ...</td>\n",
              "      <td>sostoken new zealand end rohit sharma led indi...</td>\n",
              "      <td>new zealand end rohit sharma led india match w...</td>\n",
              "    </tr>\n",
              "    <tr>\n",
              "      <th>3</th>\n",
              "      <td>aegon life iterm insurance plan helps customer...</td>\n",
              "      <td>aegon life iterm insurance plan customers enjo...</td>\n",
              "      <td>sostoken aegon life iterm insurance plan helps...</td>\n",
              "      <td>aegon life iterm insurance plan helps customer...</td>\n",
              "    </tr>\n",
              "    <tr>\n",
              "      <th>5</th>\n",
              "      <td>rahat fateh ali khan denies getting notice for...</td>\n",
              "      <td>pakistani singer rahat fateh ali khan denied r...</td>\n",
              "      <td>sostoken rahat fateh ali khan denies getting n...</td>\n",
              "      <td>rahat fateh ali khan denies getting notice for...</td>\n",
              "    </tr>\n",
              "    <tr>\n",
              "      <th>9</th>\n",
              "      <td>cong wins ramgarh bypoll in rajasthan takes to...</td>\n",
              "      <td>congress candidate shafia zubair ramgarh assem...</td>\n",
              "      <td>sostoken cong wins ramgarh bypoll in rajasthan...</td>\n",
              "      <td>cong wins ramgarh bypoll in rajasthan takes to...</td>\n",
              "    </tr>\n",
              "    <tr>\n",
              "      <th>10</th>\n",
              "      <td>up cousins fed human excreta for friendship wi...</td>\n",
              "      <td>two minor cousins uttar pradesh gorakhpur alle...</td>\n",
              "      <td>sostoken up cousins fed human excreta for frie...</td>\n",
              "      <td>up cousins fed human excreta for friendship wi...</td>\n",
              "    </tr>\n",
              "  </tbody>\n",
              "</table>\n",
              "</div>\n",
              "      <button class=\"colab-df-convert\" onclick=\"convertToInteractive('df-1e30389b-cb72-43ad-a197-8eb784572514')\"\n",
              "              title=\"Convert this dataframe to an interactive table.\"\n",
              "              style=\"display:none;\">\n",
              "        \n",
              "  <svg xmlns=\"http://www.w3.org/2000/svg\" height=\"24px\"viewBox=\"0 0 24 24\"\n",
              "       width=\"24px\">\n",
              "    <path d=\"M0 0h24v24H0V0z\" fill=\"none\"/>\n",
              "    <path d=\"M18.56 5.44l.94 2.06.94-2.06 2.06-.94-2.06-.94-.94-2.06-.94 2.06-2.06.94zm-11 1L8.5 8.5l.94-2.06 2.06-.94-2.06-.94L8.5 2.5l-.94 2.06-2.06.94zm10 10l.94 2.06.94-2.06 2.06-.94-2.06-.94-.94-2.06-.94 2.06-2.06.94z\"/><path d=\"M17.41 7.96l-1.37-1.37c-.4-.4-.92-.59-1.43-.59-.52 0-1.04.2-1.43.59L10.3 9.45l-7.72 7.72c-.78.78-.78 2.05 0 2.83L4 21.41c.39.39.9.59 1.41.59.51 0 1.02-.2 1.41-.59l7.78-7.78 2.81-2.81c.8-.78.8-2.07 0-2.86zM5.41 20L4 18.59l7.72-7.72 1.47 1.35L5.41 20z\"/>\n",
              "  </svg>\n",
              "      </button>\n",
              "      \n",
              "  <style>\n",
              "    .colab-df-container {\n",
              "      display:flex;\n",
              "      flex-wrap:wrap;\n",
              "      gap: 12px;\n",
              "    }\n",
              "\n",
              "    .colab-df-convert {\n",
              "      background-color: #E8F0FE;\n",
              "      border: none;\n",
              "      border-radius: 50%;\n",
              "      cursor: pointer;\n",
              "      display: none;\n",
              "      fill: #1967D2;\n",
              "      height: 32px;\n",
              "      padding: 0 0 0 0;\n",
              "      width: 32px;\n",
              "    }\n",
              "\n",
              "    .colab-df-convert:hover {\n",
              "      background-color: #E2EBFA;\n",
              "      box-shadow: 0px 1px 2px rgba(60, 64, 67, 0.3), 0px 1px 3px 1px rgba(60, 64, 67, 0.15);\n",
              "      fill: #174EA6;\n",
              "    }\n",
              "\n",
              "    [theme=dark] .colab-df-convert {\n",
              "      background-color: #3B4455;\n",
              "      fill: #D2E3FC;\n",
              "    }\n",
              "\n",
              "    [theme=dark] .colab-df-convert:hover {\n",
              "      background-color: #434B5C;\n",
              "      box-shadow: 0px 1px 3px 1px rgba(0, 0, 0, 0.15);\n",
              "      filter: drop-shadow(0px 1px 2px rgba(0, 0, 0, 0.3));\n",
              "      fill: #FFFFFF;\n",
              "    }\n",
              "  </style>\n",
              "\n",
              "      <script>\n",
              "        const buttonEl =\n",
              "          document.querySelector('#df-1e30389b-cb72-43ad-a197-8eb784572514 button.colab-df-convert');\n",
              "        buttonEl.style.display =\n",
              "          google.colab.kernel.accessAllowed ? 'block' : 'none';\n",
              "\n",
              "        async function convertToInteractive(key) {\n",
              "          const element = document.querySelector('#df-1e30389b-cb72-43ad-a197-8eb784572514');\n",
              "          const dataTable =\n",
              "            await google.colab.kernel.invokeFunction('convertToInteractive',\n",
              "                                                     [key], {});\n",
              "          if (!dataTable) return;\n",
              "\n",
              "          const docLinkHtml = 'Like what you see? Visit the ' +\n",
              "            '<a target=\"_blank\" href=https://colab.research.google.com/notebooks/data_table.ipynb>data table notebook</a>'\n",
              "            + ' to learn more about interactive tables.';\n",
              "          element.innerHTML = '';\n",
              "          dataTable['output_type'] = 'display_data';\n",
              "          await google.colab.output.renderOutput(dataTable, element);\n",
              "          const docLink = document.createElement('div');\n",
              "          docLink.innerHTML = docLinkHtml;\n",
              "          element.appendChild(docLink);\n",
              "        }\n",
              "      </script>\n",
              "    </div>\n",
              "  </div>\n",
              "  "
            ]
          },
          "metadata": {},
          "execution_count": 22
        }
      ]
    },
    {
      "cell_type": "code",
      "source": [
        "# 각 데이터들을 numpy 타입으로 바꿔주는 작업!!\n",
        "\n",
        "encoder_input = np.array(data['text']) # 인코더의 입력\n",
        "decoder_input = np.array(data['decoder_input']) # 디코더의 입력\n",
        "decoder_target = np.array(data['decoder_target']) # 디코더의 레이블"
      ],
      "metadata": {
        "id": "JxXWSQpT1Yjy"
      },
      "execution_count": 23,
      "outputs": []
    },
    {
      "cell_type": "markdown",
      "source": [
        "## (4) 훈련 데이터와 테스트 데이터 분리하기!!\n",
        "\n",
        "훈련 데이터와 테스트 데이터를 분리하는 방법은 분리 패키지를 사용하는 방법도 있고 직접 코딩을 통해 분리하는 방법도 있다. 여기서는 직접 분리하는 방법으로 하고자 한다. encoder_input과 크기와 형태가 같은 순서가 섞인 정수 시퀀스(indices)를 만든다."
      ],
      "metadata": {
        "id": "XMLsz_Gg1TjP"
      }
    },
    {
      "cell_type": "code",
      "source": [
        "indices = np.arange(encoder_input.shape[0])\n",
        "np.random.shuffle(indices)    # random이니까 딱 떠오르지 않는가!!! 이 부분이 무작위로 섞어주는 과정\n",
        "print(indices)"
      ],
      "metadata": {
        "colab": {
          "base_uri": "https://localhost:8080/"
        },
        "id": "CR6V1hyC0mrF",
        "outputId": "f86c0062-e9a2-4622-8c83-b7e55cbaa448"
      },
      "execution_count": 24,
      "outputs": [
        {
          "output_type": "stream",
          "name": "stdout",
          "text": [
            "[40348 29002 57104 ... 17616 56052 13055]\n"
          ]
        }
      ]
    },
    {
      "cell_type": "code",
      "source": [
        "encoder_input = encoder_input[indices]\n",
        "decoder_input = decoder_input[indices]\n",
        "decoder_target = decoder_target[indices]\n",
        "\n",
        "# 전체 데이터의 20%만큼을 테스트 데이터로 설정\n",
        "n_of_val = int(len(encoder_input)*0.2)\n",
        "print('테스트 데이터의 수 :', n_of_val)"
      ],
      "metadata": {
        "colab": {
          "base_uri": "https://localhost:8080/"
        },
        "id": "Vph5cT4f2JTT",
        "outputId": "1a48932f-d582-40e5-eb6d-2f8adde60c17"
      },
      "execution_count": 25,
      "outputs": [
        {
          "output_type": "stream",
          "name": "stdout",
          "text": [
            "테스트 데이터의 수 : 14820\n"
          ]
        }
      ]
    },
    {
      "cell_type": "code",
      "source": [
        "encoder_input_train = encoder_input[:-n_of_val]\n",
        "decoder_input_train = decoder_input[:-n_of_val]\n",
        "decoder_target_train = decoder_target[:-n_of_val]\n",
        "\n",
        "encoder_input_test = encoder_input[-n_of_val:]\n",
        "decoder_input_test = decoder_input[-n_of_val:]\n",
        "decoder_target_test = decoder_target[-n_of_val:]\n",
        "\n",
        "print('훈련 데이터 개수:', len(encoder_input_train))\n",
        "print('훈련 레이블 개수:', len(decoder_input_train))\n",
        "print('테스트 데이터 개수:', len(encoder_input_test))\n",
        "print('테스트 레이블 개수:', len(decoder_input_test))\n",
        "print(len(decoder_target_test))"
      ],
      "metadata": {
        "colab": {
          "base_uri": "https://localhost:8080/"
        },
        "id": "dhjNFCT22gcu",
        "outputId": "ef10babb-810e-4faa-ca12-419f8b6fdc68"
      },
      "execution_count": 26,
      "outputs": [
        {
          "output_type": "stream",
          "name": "stdout",
          "text": [
            "훈련 데이터 개수: 59282\n",
            "훈련 레이블 개수: 59282\n",
            "테스트 데이터 개수: 14820\n",
            "테스트 레이블 개수: 14820\n",
            "14820\n"
          ]
        }
      ]
    },
    {
      "cell_type": "markdown",
      "source": [
        "맨 마지막 줄의 `decoder_target_test`의 길이를 출력한 부분은 이 개수가 테스트 데이터, 레이블 개수와 맞지 않으면 나중에 모델 훈련을 시킬 때 개수가 다르기 때문에 에러가 뜨고 훈련을 못하기 때문에 확인차 적은 부분이다. 실제로 이전 루트를 따라 연습할 때는 이 부분 때문에 에러가 나서 시간을 많이 잡아먹었던 경험을 했다(처음부터 다시 돌려야 하는데 시간을 많이 쓰는 부분을 모두 거치다 보니 ㅠㅠ).  \n",
        "\n",
        "다행히도 `decoder_target_test`의 길이가 맞고 이상이 없음을 확인했다!!"
      ],
      "metadata": {
        "id": "PEMS7b924SAj"
      }
    },
    {
      "cell_type": "markdown",
      "source": [
        "## (5) 정수 인코딩\n",
        "\n",
        "이제 기계가 텍스트를 숫자로 처리할 수 있도록 훈련 데이터와 테스트 데이터 단어들을 정수로 바꿔주는 과정을 진행하고자 한다. 이를 위해서는 각 단어에 고유한 정수를 맵핑하는 작업이 먼저 필요하다. 이 과정을 단어 집합(vocabulary)라고 한다.\n",
        "\n",
        "keras의 토크나이저를 사용하면, 입력된 훈련 데이터로부터 단어 집합을 만들 수 있다."
      ],
      "metadata": {
        "id": "8i4U2-GH5XP3"
      }
    },
    {
      "cell_type": "code",
      "source": [
        "src_tokenizer = Tokenizer() # 토크나이저 정의\n",
        "src_tokenizer.fit_on_texts(encoder_input_train) # 입력된 데이터로부터 단어 집합 생성"
      ],
      "metadata": {
        "id": "zOXd1zFD4IV1"
      },
      "execution_count": 27,
      "outputs": []
    },
    {
      "cell_type": "markdown",
      "source": [
        "이제 단어 집합이 생성되는 동시에 각 단어에 고유한 정수가 부여된 셈이다. 현재 생성된 단어 집합은 src_tokenizer.word_index에 저장되어 있다. 그런데 우리는 이렇게 만든 단어 집합에 있는 모든 단어를 사용하는 것이 아니라, 빈도수가 낮은 단어들은 훈련 데이터에서 제외하고 진행하고자 한다.\n",
        "\n",
        "등장 빈도수가 7회 미만인 단어들이 이 데이터에서 얼만큼의 비중을 차지하는지 확인해보자."
      ],
      "metadata": {
        "id": "5l_bpJJYBkwz"
      }
    },
    {
      "cell_type": "code",
      "source": [
        "threshold = 7\n",
        "total_cnt = len(src_tokenizer.word_index) # 단어의 수\n",
        "rare_cnt = 0  # 등장 빈도수가 7보다 작은 단어의 개수를 카운드\n",
        "total_freq = 0  # 훈련데이터의 전체 단어 빈도수 총 합\n",
        "rare_freq = 0  # 등장빈도수가 7보다 작은 단어의 등장 빈도수의 총 합\n",
        "\n",
        "# word_counts()에는 각 단어의 등장빈도수가 저장돼 있습니다.\n",
        "for key, value in src_tokenizer.word_counts.items():\n",
        "  total_freq += value\n",
        "\n",
        "  if(value < threshold):\n",
        "    rare_cnt += 1\n",
        "    rare_freq += value\n",
        "\n",
        "print('vocabulary의 크기:', total_cnt)\n",
        "print('등장 빈도 %s번 이하인 희귀 단어의 수: %s'%(threshold - 1, rare_cnt))\n",
        "print('vocabulary에서 희귀단어를 제외시킬 경우의 vocabulary의 크기%s' %(total_cnt - rare_cnt))\n",
        "print('vocabulary에서 희귀단어의 비율:', (rare_cnt / total_cnt)*100)\n",
        "print('전체 등장빈도에서 희귀단어 등장빈도 비율:', (rare_freq / total_freq)*100)"
      ],
      "metadata": {
        "colab": {
          "base_uri": "https://localhost:8080/"
        },
        "id": "v2OlUPvNBgBN",
        "outputId": "7b0a4e8d-ab52-4092-b097-1d4674b861c6"
      },
      "execution_count": 28,
      "outputs": [
        {
          "output_type": "stream",
          "name": "stdout",
          "text": [
            "vocabulary의 크기: 61505\n",
            "등장 빈도 6번 이하인 희귀 단어의 수: 42227\n",
            "vocabulary에서 희귀단어를 제외시킬 경우의 vocabulary의 크기19278\n",
            "vocabulary에서 희귀단어의 비율: 68.65620681245427\n",
            "전체 등장빈도에서 희귀단어 등장빈도 비율: 4.196789304186591\n"
          ]
        }
      ]
    },
    {
      "cell_type": "markdown",
      "source": [
        "encoder_input_train에는 6만여개의 단어가 있었다. 그 아래의 통계 정보들도 뜯어보자.\n",
        "\n",
        "등장 빈도가 threshold 값인 7회 미만, 즉 6회 이하인 단어들은 단어 집합에서 약 70%에 가까운 비중을 차지했다. 하지만 실제로 훈련 데이터에서 등장 빈도로 차지하는 비중은 상대적으로 적은 수치인 4.19%밖에 되지 않았다.\n",
        "\n",
        "그래서 등장 빈도가 6회 이하인 단어들은 정수 인코딩 과정에서 빼고, 훈련 데이터에서 제거해야 한다. 위에서 이를 제외한 단어 집합의 크기를 19336개로 계산했는데, 이와 비슷한 값으로 어림잡아 단어 집합의 크기를 19000으로 제한한다. 토크나이저를 정의할 때 num_words의 값을 정해주면, 단어 집합의 크기를 제한할 수 있다."
      ],
      "metadata": {
        "id": "jw2Eti6vBvTa"
      }
    },
    {
      "cell_type": "code",
      "source": [
        "src_vocab = 19000\n",
        "src_tokenizer = Tokenizer(num_words=src_vocab) # 단어 집합의 크기를 19,000으로 제한\n",
        "src_tokenizer.fit_on_texts(encoder_input_train) # 단어 집합 재생성"
      ],
      "metadata": {
        "id": "tqTI7K3cBp9T"
      },
      "execution_count": 29,
      "outputs": []
    },
    {
      "cell_type": "markdown",
      "source": [
        "texts_to_sequences()는 생성된 단어 집합에 기반하여 입력으로 주어진 텍스트 데이터의 단어들을 모두 정수로 변환하는 정수 인코딩을 수행한다. 현재 단어 집합의 크기를 8,000으로 제한했으니까 이제 8,000이 넘는 숫자들은 정수 인코딩 후에는 데이터에 존재하지 않는다."
      ],
      "metadata": {
        "id": "ChQqMMjfCD5G"
      }
    },
    {
      "cell_type": "code",
      "source": [
        "# 텍스트 시퀀스를 정수 시퀀스로 변환\n",
        "encoder_input_train = src_tokenizer.texts_to_sequences(encoder_input_train) \n",
        "encoder_input_test = src_tokenizer.texts_to_sequences(encoder_input_test)\n",
        "\n",
        "# 잘 진행되었는지 샘플 출력\n",
        "print(encoder_input_train[:3])"
      ],
      "metadata": {
        "colab": {
          "base_uri": "https://localhost:8080/"
        },
        "id": "MIa1TUU6CBJT",
        "outputId": "a3239364-454e-4225-c3cc-e7b5d482e464"
      },
      "execution_count": 30,
      "outputs": [
        {
          "output_type": "stream",
          "name": "stdout",
          "text": [
            "[[670, 264, 233, 52, 736, 9539, 556, 917, 5334, 217, 3, 3186, 108, 264, 4863, 36, 26, 19, 736, 3633, 1128, 7922, 1975, 741, 3312, 1546, 5793, 717, 111, 666, 94, 176, 194, 90, 917, 318, 8617, 3], [120, 97, 2135, 666, 374, 15047, 4921, 504, 1089, 7129, 36, 477, 857, 114, 5, 83, 120, 2625, 157, 413, 778, 828, 477, 83, 179, 1255, 287, 1150, 5026, 94, 14363, 35, 1492, 13729, 87, 278], [3634, 2827, 245, 135, 172, 51, 787, 7509, 245, 862, 108, 807, 7655, 2095, 687, 135, 399, 862, 3027, 3601, 9784, 420, 135, 2222, 108, 245, 3660, 30, 135, 2418, 3661]]\n"
          ]
        }
      ]
    },
    {
      "cell_type": "code",
      "source": [
        "tar_tokenizer = Tokenizer()\n",
        "tar_tokenizer.fit_on_texts(decoder_input_train)"
      ],
      "metadata": {
        "id": "q0BsIOqmCBuy"
      },
      "execution_count": 31,
      "outputs": []
    },
    {
      "cell_type": "markdown",
      "source": [
        "이제 단어 집합이 생성되는 동시에 각 단어에 고유한 정수가 부여댔다. 이는 tar_tokenizer.word_index에 저장되어 있다. tar_tokenizer.word_counts.items()에는 단어와 각 단어의 등장 빈도수가 저장돼 있는데, 이를 통해서 통계적인 정보를 얻을 수 있다.\n",
        "\n",
        "이번에는 headlines에도 적용을 할 차례이다. 등장 빈도수가 6회 미만인 단어들이 이 데이터에서 얼만큼의 비중을 차지하는지 확인해보자.\n",
        "\n"
      ],
      "metadata": {
        "id": "xql09BNRClVC"
      }
    },
    {
      "cell_type": "code",
      "source": [
        "threshold = 6\n",
        "total_cnt = len(tar_tokenizer.word_index) # 단어의 수\n",
        "rare_cnt = 0 # 등장 빈도수가 threshold보다 작은 단어의 개수를 카운트\n",
        "total_freq = 0 # 훈련 데이터의 전체 단어 빈도수 총 합\n",
        "rare_freq = 0 # 등장 빈도수가 threshold보다 작은 단어의 등장 빈도수의 총 합\n",
        "\n",
        "# 단어와 빈도수의 쌍(pair)을 key와 value로 받는다.\n",
        "for key, value in tar_tokenizer.word_counts.items():\n",
        "    total_freq = total_freq + value\n",
        "\n",
        "    # 단어의 등장 빈도수가 threshold보다 작으면\n",
        "    if(value < threshold):\n",
        "        rare_cnt = rare_cnt + 1\n",
        "        rare_freq = rare_freq + value\n",
        "\n",
        "print('단어 집합(vocabulary)의 크기 :', total_cnt)\n",
        "print('등장 빈도가 %s번 이하인 희귀 단어의 수: %s'%(threshold - 1, rare_cnt))\n",
        "print('단어 집합에서 희귀 단어를 제외시킬 경우의 단어 집합의 크기 %s'%(total_cnt - rare_cnt))\n",
        "print(\"단어 집합에서 희귀 단어의 비율:\", (rare_cnt / total_cnt)*100)\n",
        "print(\"전체 등장 빈도에서 희귀 단어 등장 빈도 비율:\", (rare_freq / total_freq)*100)"
      ],
      "metadata": {
        "colab": {
          "base_uri": "https://localhost:8080/"
        },
        "id": "8FQsiBu-Cmey",
        "outputId": "ccda515e-7486-4c95-80b8-4d1f63e013f3"
      },
      "execution_count": 32,
      "outputs": [
        {
          "output_type": "stream",
          "name": "stdout",
          "text": [
            "단어 집합(vocabulary)의 크기 : 27319\n",
            "등장 빈도가 5번 이하인 희귀 단어의 수: 18276\n",
            "단어 집합에서 희귀 단어를 제외시킬 경우의 단어 집합의 크기 9043\n",
            "단어 집합에서 희귀 단어의 비율: 66.89849555254584\n",
            "전체 등장 빈도에서 희귀 단어 등장 빈도 비율: 6.007342975277506\n"
          ]
        }
      ]
    },
    {
      "cell_type": "markdown",
      "source": [
        "등장 빈도가 5회 이하인 단어들은 단어 집합에서 약 66%를 차지하고 있다. 하지만 실제로 훈련 데이터에서 등장 빈도로 차지하는 비중은 상대적으로 매우 적은 수치인 5.98%밖에 되지 않는다. 아까 했던 것과 동일하게 이 단어들은 모두 제거한다. 어림잡아 9,000을 단어 집합 크기로 제한시킨다."
      ],
      "metadata": {
        "id": "S8ony81LEq1m"
      }
    },
    {
      "cell_type": "code",
      "source": [
        "tar_vocab = 9000\n",
        "tar_tokenizer = Tokenizer(num_words=tar_vocab)\n",
        "tar_tokenizer.fit_on_texts(decoder_input_train)\n",
        "tar_tokenizer.fit_on_texts(decoder_target_train)\n",
        "\n",
        "decoder_input_train = tar_tokenizer.texts_to_sequences(decoder_input_train)\n",
        "decoder_target_train = tar_tokenizer.texts_to_sequences(decoder_target_train)\n",
        "decoder_input_test = tar_tokenizer.texts_to_sequences(decoder_input_test)\n",
        "decoder_target_test = tar_tokenizer.texts_to_sequences(decoder_target_test)\n",
        "\n",
        "print('input', decoder_input_train[:3])\n",
        "print('target', decoder_target_train[:3])"
      ],
      "metadata": {
        "colab": {
          "base_uri": "https://localhost:8080/"
        },
        "id": "A9uk1pqQCpua",
        "outputId": "4d43d9df-ed5f-4c66-ae50-9a9e955a4119"
      },
      "execution_count": 33,
      "outputs": [
        {
          "output_type": "stream",
          "name": "stdout",
          "text": [
            "input [[1, 985, 3113, 11, 414, 6498, 967, 9], [1, 122, 6, 3448, 384, 924, 674, 1880, 101, 8192], [1, 1580, 141, 2670, 3, 6990, 783, 4, 2096]]\n",
            "target [[985, 3113, 11, 414, 6498, 967, 9, 2], [122, 6, 3448, 384, 924, 674, 1880, 101, 8192, 2], [1580, 141, 2670, 3, 6990, 783, 4, 2096, 2]]\n"
          ]
        }
      ]
    },
    {
      "cell_type": "markdown",
      "source": [
        "정상적으로 정수 인코딩 작업이 끝났고, 현재 decoder_input_train과 decoder_target_train에는 더 이상 9,000이 넘는 숫자들은 존재하지 않는다. 그런데 다음 작업인 패딩 하기로 넘어가기 전에 한 가지 점검해야 할 것이 있다.\n",
        "\n",
        "전체 데이터에서 빈도수가 낮은 단어가 삭제되었다는 것은 빈도수가 낮은 단어만으로 구성되었던 샘플들은 이제 빈(empty) 샘플이 되었을 가능성이 있디. 이 현상은 길이가 상대적으로 길었던 원문(Text)의 경우에는 문제가 별로 없겠지만, 애초에 평균 길이가 4밖에 되지 않았던 요약문(Summary)의 경우에는 이 현상이 굉장히 두드러졌을 가능성이 높을 것이다.\n",
        "\n",
        "요약문에서 길이가 0이 된 샘플들의 인덱스를 받는다. 여기서 주의할 점은 요약문인 decoder_input에는 sostoken 또는 decoder_target에는 eostoken이 추가된 상태이고, 이 두 토큰은 모든 샘플에서 등장하므로 빈도수가 샘플 수와 동일하게 매우 높으므로 단어 집합 제한에도 삭제되지 않는다. 그래서 이제 길이가 0이 된 요약문의 실제 길이는 1로 나올 건데, 길이 0이 된 decoder_input에는 sostoken, decoder_target에는 eostoken만 남아 있을 테니까 말이다.\n",
        "\n",
        "훈련 데이터와 테스트 데이터에 대해서 요약문의 길이가 1인 경우의 인덱스를 각각 drop_train과 drop_test에 라는 변수에 저장한다.이 샘플들은 모두 삭제할 거다."
      ],
      "metadata": {
        "id": "ZGQYzynwFVu1"
      }
    },
    {
      "cell_type": "code",
      "source": [
        "# 길이가 1인 문장의 인덱스를 리스트로 저장해줍니다.\n",
        "drop_train = [index for index, sentence in enumerate(decoder_input_train) if len(sentence) == 1]\n",
        "drop_test = [index for index, sentence in enumerate(decoder_input_test) if len(sentence) == 1]\n",
        "\n",
        "print('삭제할 훈련데이터의 개수:', len(drop_train))\n",
        "print('삭제할 테스트데이터의 개수:', len(drop_test))\n",
        "\n",
        "encoder_input_train = [sentence for index, sentence in enumerate(encoder_input_train) if index not in drop_train]\n",
        "decoder_input_train = [sentence for index, sentence in enumerate(decoder_input_train) if index not in drop_train]\n",
        "decoder_target_train = [sentence for index, sentence in enumerate(decoder_target_train) if index not in drop_train]\n",
        "\n",
        "encoder_input_test = [sentence for index, sentence in enumerate(encoder_input_test) if index not in drop_test]\n",
        "decoder_input_test = [sentence for index, sentence in enumerate(decoder_input_test) if index not in drop_test]\n",
        "decoder_target_test = [sentence for index, sentence in enumerate(decoder_target_test) if index not in drop_test]\n",
        "\n",
        "print('훈련 데이터의 개수:', len(encoder_input_train))\n",
        "print('훈련 레이블의 개수:', len(decoder_input_train))\n",
        "print('테스트데이터의 개수:', len(encoder_input_test))\n",
        "print('테스트레이블의 개수:', len(decoder_input_test))"
      ],
      "metadata": {
        "colab": {
          "base_uri": "https://localhost:8080/"
        },
        "id": "RIg8pfdMFgND",
        "outputId": "45341bc8-ebfa-4ade-910e-63f2fbfc34cf"
      },
      "execution_count": 34,
      "outputs": [
        {
          "output_type": "stream",
          "name": "stdout",
          "text": [
            "삭제할 훈련데이터의 개수: 1\n",
            "삭제할 테스트데이터의 개수: 0\n",
            "훈련 데이터의 개수: 59281\n",
            "훈련 레이블의 개수: 59281\n",
            "테스트데이터의 개수: 14820\n",
            "테스트레이블의 개수: 14820\n"
          ]
        }
      ]
    },
    {
      "cell_type": "markdown",
      "source": [
        "이 부분 역시 맨 마지막 줄의 decoder_target_test의 길이를 출력했는데, 이 개수가 테스트 데이터, 레이블 개수와 맞지 않으면 나중에 모델 훈련을 시킬 때 개수가 다르기 때문에 에러가 뜨고 훈련을 못하기 때문에 확인차 적은 부분이라 할 수 있다. \n",
        "\n",
        "다행히도 decoder_target_test의 길이가 맞고 이상이 없음을 확인했다!!"
      ],
      "metadata": {
        "id": "xbVDJq9nFpAk"
      }
    },
    {
      "cell_type": "markdown",
      "source": [
        "## (6) 패딩(padding)\n",
        "\n",
        "텍스트 시퀀스를 정수 시퀀스로 변환했다면, 이제 서로 다른 길이의 샘플들을 병렬 처리하기 위해 같은 길이로 맞춰주는 패딩 작업을 해주어야 한다. 아까 정해두었던 최대 길이로 패딩 해 줄 건데, 최대 길이보다 짧은 데이터들은 뒤의 공간에 숫자 0을 넣어 최대 길이로 길이를 맞춰준다.\n",
        "\n",
        "일부 그루분들은 padding을 pre로 맞춘 경우도 있지만 뉴스 요약본의 경우는 뒷부분보다는 앞부분에 중요한 정보를 내포할 가능성을 염두에 두고 연습할 때와 마찬가지로 post에 맞췄다."
      ],
      "metadata": {
        "id": "VAu9RlG9F4OL"
      }
    },
    {
      "cell_type": "code",
      "source": [
        "encoder_input_train = pad_sequences(encoder_input_train, maxlen = text_max_len, padding='post')\n",
        "encoder_input_test = pad_sequences(encoder_input_test, maxlen = text_max_len, padding='post')\n",
        "\n",
        "decoder_input_train = pad_sequences(decoder_input_train, maxlen = headlines_max_len, padding='post')\n",
        "decoder_target_train = pad_sequences(decoder_target_train, maxlen = headlines_max_len, padding='post')\n",
        "\n",
        "decoder_input_test = pad_sequences(decoder_input_test, maxlen = headlines_max_len, padding='post')\n",
        "decoder_target_test = pad_sequences(decoder_target_test, maxlen = headlines_max_len, padding='post')"
      ],
      "metadata": {
        "id": "UmMTEj0JFkfZ"
      },
      "execution_count": 35,
      "outputs": []
    },
    {
      "cell_type": "markdown",
      "source": [
        "# Step 3. 모델 설계하기(추상적요약)"
      ],
      "metadata": {
        "id": "obkiybbSIu7u"
      }
    },
    {
      "cell_type": "code",
      "source": [
        "from tensorflow.keras.layers import Input, LSTM, Embedding, Dense, Concatenate, TimeDistributed\n",
        "from tensorflow.keras.models import Model\n",
        "from tensorflow.keras.callbacks import EarlyStopping, ModelCheckpoint\n",
        "\n",
        "# 인코더 설계 Start\n",
        "embedding_dim = 128\n",
        "hidden_size = 256\n",
        "\n",
        "# 인코더\n",
        "encoder_inputs = Input(shape=(text_max_len,))\n",
        "\n",
        "# 인코더의 임베딩 층\n",
        "enc_emb = Embedding(src_vocab, embedding_dim)(encoder_inputs)\n",
        "\n",
        "# 인코더의 LSTM 1\n",
        "encoder_lstm1 = LSTM(hidden_size, return_sequences=True, return_state=True ,dropout = 0.4, recurrent_dropout = 0.4)\n",
        "encoder_output1, state_h1, state_c1 = encoder_lstm1(enc_emb)\n",
        "\n",
        "# 인코더의 LSTM 2\n",
        "encoder_lstm2 = LSTM(hidden_size, return_sequences=True, return_state=True, dropout=0.4, recurrent_dropout=0.4)\n",
        "encoder_output2, state_h2, state_c2 = encoder_lstm2(encoder_output1)\n",
        "\n",
        "# 인코더의 LSTM 3\n",
        "encoder_lstm3 = LSTM(hidden_size, return_state=True, return_sequences=True, dropout=0.4, recurrent_dropout=0.4)\n",
        "encoder_outputs, state_h, state_c= encoder_lstm3(encoder_output2)"
      ],
      "metadata": {
        "colab": {
          "base_uri": "https://localhost:8080/"
        },
        "id": "lxol82FoHG3U",
        "outputId": "c117833c-da5f-41fa-c3d5-04c4d5d8adb7"
      },
      "execution_count": 36,
      "outputs": [
        {
          "output_type": "stream",
          "name": "stderr",
          "text": [
            "WARNING:tensorflow:Layer lstm will not use cuDNN kernels since it doesn't meet the criteria. It will use a generic GPU kernel as fallback when running on GPU.\n",
            "WARNING:tensorflow:Layer lstm_1 will not use cuDNN kernels since it doesn't meet the criteria. It will use a generic GPU kernel as fallback when running on GPU.\n",
            "WARNING:tensorflow:Layer lstm_2 will not use cuDNN kernels since it doesn't meet the criteria. It will use a generic GPU kernel as fallback when running on GPU.\n"
          ]
        }
      ]
    },
    {
      "cell_type": "markdown",
      "source": [
        "임베딩 벡터의 차원은 128로 정의하고, hidden state의 크기를 256으로 정의했다. hidden state는 LSTM에서 얼만큼의 수용력(capacity)를 가질지를 정하는 파라미터이다. 이 파라미터는 LSTM의 용량의 크기나, LSTM에서의 뉴런의 개수라고 이해하면 된다. 다른 신경망과 마찬가지로, 무조건 용량을 많이 준다고 해서 성능이 반드시 올라가는 것은 아니라고 한다.\n",
        "\n",
        "또한 LSTM은 dropout 뿐 아니라 recurrent dropout까지 사용할 수 있다. 일반적인 dropout은 레이어의 weight를 랜덤으로 생략하여 모델의 과적합(overfitting)을 해결해주는 방법이니까.\n",
        "\n",
        "반면 recurrent dropout은 dropout을 레이어가 아닌 time step마다 해주는 방식이라 일반적인 모델과 다르다. 즉 time step의 입력을 랜덤으로 생략해 주는 거다. recurrent dropout은 일반적인 dropout와 같이 regularization을 해주는 효과가 있고, 과적합을 방지할 수 있다고 한다."
      ],
      "metadata": {
        "id": "WGF5blRwJ8vs"
      }
    },
    {
      "cell_type": "code",
      "source": [
        "# 디코더 설계\n",
        "decoder_inputs = Input(shape=(None,))\n",
        "\n",
        "# 디코더의 임베딩 층\n",
        "dec_emb_layer = Embedding(tar_vocab, embedding_dim)\n",
        "dec_emb = dec_emb_layer(decoder_inputs)\n",
        "\n",
        "# 디코더의 LSTM\n",
        "decoder_lstm = LSTM(hidden_size, return_sequences=True, return_state=True, dropout=0.4)\n",
        "decoder_outputs, _, _ = decoder_lstm(dec_emb, initial_state=[state_h, state_c])"
      ],
      "metadata": {
        "id": "1ixv7K-MJ-9C"
      },
      "execution_count": 37,
      "outputs": []
    },
    {
      "cell_type": "code",
      "source": [
        "# 디코더의 출력층\n",
        "decoder_softmax_layer = Dense(tar_vocab, activation='softmax')\n",
        "decoder_softmax_outputs = decoder_softmax_layer(decoder_outputs) \n",
        "\n",
        "# 모델 정의\n",
        "model = Model([encoder_inputs, decoder_inputs], decoder_softmax_outputs)\n",
        "model.summary()"
      ],
      "metadata": {
        "colab": {
          "base_uri": "https://localhost:8080/"
        },
        "id": "Hk08Y-HsKz4S",
        "outputId": "f0db8715-5348-4807-cf24-b25d0af6e8e0"
      },
      "execution_count": 38,
      "outputs": [
        {
          "output_type": "stream",
          "name": "stdout",
          "text": [
            "Model: \"model\"\n",
            "__________________________________________________________________________________________________\n",
            " Layer (type)                   Output Shape         Param #     Connected to                     \n",
            "==================================================================================================\n",
            " input_1 (InputLayer)           [(None, 40)]         0           []                               \n",
            "                                                                                                  \n",
            " embedding (Embedding)          (None, 40, 128)      2432000     ['input_1[0][0]']                \n",
            "                                                                                                  \n",
            " lstm (LSTM)                    [(None, 40, 256),    394240      ['embedding[0][0]']              \n",
            "                                 (None, 256),                                                     \n",
            "                                 (None, 256)]                                                     \n",
            "                                                                                                  \n",
            " input_2 (InputLayer)           [(None, None)]       0           []                               \n",
            "                                                                                                  \n",
            " lstm_1 (LSTM)                  [(None, 40, 256),    525312      ['lstm[0][0]']                   \n",
            "                                 (None, 256),                                                     \n",
            "                                 (None, 256)]                                                     \n",
            "                                                                                                  \n",
            " embedding_1 (Embedding)        (None, None, 128)    1152000     ['input_2[0][0]']                \n",
            "                                                                                                  \n",
            " lstm_2 (LSTM)                  [(None, 40, 256),    525312      ['lstm_1[0][0]']                 \n",
            "                                 (None, 256),                                                     \n",
            "                                 (None, 256)]                                                     \n",
            "                                                                                                  \n",
            " lstm_3 (LSTM)                  [(None, None, 256),  394240      ['embedding_1[0][0]',            \n",
            "                                 (None, 256),                     'lstm_2[0][1]',                 \n",
            "                                 (None, 256)]                     'lstm_2[0][2]']                 \n",
            "                                                                                                  \n",
            " dense (Dense)                  (None, None, 9000)   2313000     ['lstm_3[0][0]']                 \n",
            "                                                                                                  \n",
            "==================================================================================================\n",
            "Total params: 7,736,104\n",
            "Trainable params: 7,736,104\n",
            "Non-trainable params: 0\n",
            "__________________________________________________________________________________________________\n"
          ]
        }
      ]
    },
    {
      "cell_type": "markdown",
      "source": [
        "\n",
        "# Step 4. 어텐션 메커니즘 사용하기(추상적요약)\n",
        "지금까지 설계한것은 가장 기본적인 seq2seq이다. 그런데 디코더의 출력층 설계를 살짝 바꿔서 성능을 높일 수 있는 방법이 있다. 여기서는 이미 구현된 어텐션함수를 가져와서 디코더의 출력층에 결합시켜 주도록 하겠다. 참고로 여기서 사용하는 어텐션 함수는 Bahdanau스타일의 어텐션이다. 그냥 그런게 있구나 하고 넘어가면 된다."
      ],
      "metadata": {
        "id": "ENYTTwgjLCsw"
      }
    },
    {
      "cell_type": "code",
      "source": [
        "urllib.request.urlretrieve(\"https://raw.githubusercontent.com/thushv89/attention_keras/master/src/layers/attention.py\", filename=\"attention.py\")\n",
        "from attention import AttentionLayer"
      ],
      "metadata": {
        "id": "wnw1wRJDLdkx"
      },
      "execution_count": 39,
      "outputs": []
    },
    {
      "cell_type": "code",
      "source": [
        "# 어텐션 층(어텐션 함수)\n",
        "attn_layer = AttentionLayer(name='attention_layer')\n",
        "\n",
        "# 인코더와 디코더의 모든 time step의 hidden state를 어텐션 층에 전달하고 결과를 리턴\n",
        "attn_out, attn_states = attn_layer([encoder_outputs, decoder_outputs])\n",
        "\n",
        "# 어텐션의 결과와 디코더의 hidden state들을 연결\n",
        "decoder_concat_input = Concatenate(axis = -1, name='concat_layer')([decoder_outputs, attn_out])\n",
        "\n",
        "# 디코더의 출력층\n",
        "decoder_softmax_layer = Dense(tar_vocab, activation='softmax')\n",
        "decoder_softmax_outputs = decoder_softmax_layer(decoder_concat_input)\n",
        "\n",
        "# 모델 정의\n",
        "model = Model([encoder_inputs, decoder_inputs], decoder_softmax_outputs)\n",
        "model.summary()"
      ],
      "metadata": {
        "colab": {
          "base_uri": "https://localhost:8080/"
        },
        "id": "C47CejDKLi9k",
        "outputId": "7ea8f8d3-b3be-4487-b7dc-614c39e68197"
      },
      "execution_count": 40,
      "outputs": [
        {
          "output_type": "stream",
          "name": "stdout",
          "text": [
            "Model: \"model_1\"\n",
            "__________________________________________________________________________________________________\n",
            " Layer (type)                   Output Shape         Param #     Connected to                     \n",
            "==================================================================================================\n",
            " input_1 (InputLayer)           [(None, 40)]         0           []                               \n",
            "                                                                                                  \n",
            " embedding (Embedding)          (None, 40, 128)      2432000     ['input_1[0][0]']                \n",
            "                                                                                                  \n",
            " lstm (LSTM)                    [(None, 40, 256),    394240      ['embedding[0][0]']              \n",
            "                                 (None, 256),                                                     \n",
            "                                 (None, 256)]                                                     \n",
            "                                                                                                  \n",
            " input_2 (InputLayer)           [(None, None)]       0           []                               \n",
            "                                                                                                  \n",
            " lstm_1 (LSTM)                  [(None, 40, 256),    525312      ['lstm[0][0]']                   \n",
            "                                 (None, 256),                                                     \n",
            "                                 (None, 256)]                                                     \n",
            "                                                                                                  \n",
            " embedding_1 (Embedding)        (None, None, 128)    1152000     ['input_2[0][0]']                \n",
            "                                                                                                  \n",
            " lstm_2 (LSTM)                  [(None, 40, 256),    525312      ['lstm_1[0][0]']                 \n",
            "                                 (None, 256),                                                     \n",
            "                                 (None, 256)]                                                     \n",
            "                                                                                                  \n",
            " lstm_3 (LSTM)                  [(None, None, 256),  394240      ['embedding_1[0][0]',            \n",
            "                                 (None, 256),                     'lstm_2[0][1]',                 \n",
            "                                 (None, 256)]                     'lstm_2[0][2]']                 \n",
            "                                                                                                  \n",
            " attention_layer (AttentionLaye  ((None, None, 256),  131328     ['lstm_2[0][0]',                 \n",
            " r)                              (None, None, 40))                'lstm_3[0][0]']                 \n",
            "                                                                                                  \n",
            " concat_layer (Concatenate)     (None, None, 512)    0           ['lstm_3[0][0]',                 \n",
            "                                                                  'attention_layer[0][0]']        \n",
            "                                                                                                  \n",
            " dense_1 (Dense)                (None, None, 9000)   4617000     ['concat_layer[0][0]']           \n",
            "                                                                                                  \n",
            "==================================================================================================\n",
            "Total params: 10,171,432\n",
            "Trainable params: 10,171,432\n",
            "Non-trainable params: 0\n",
            "__________________________________________________________________________________________________\n"
          ]
        }
      ]
    },
    {
      "cell_type": "markdown",
      "source": [
        "# Step 5. 모델 훈련하기(추상적 요약)"
      ],
      "metadata": {
        "id": "BRYHZ6luLoT0"
      }
    },
    {
      "cell_type": "code",
      "source": [
        "model.compile(optimizer='rmsprop', loss='sparse_categorical_crossentropy')\n",
        "es = EarlyStopping(monitor='val_loss', patience=2, verbose=1)\n",
        "history = model.fit(x=[encoder_input_train, decoder_input_train], y=decoder_target_train, \\\n",
        "          validation_data=([encoder_input_test, decoder_input_test], decoder_target_test), \\\n",
        "          batch_size=256, callbacks=[es], epochs=50)"
      ],
      "metadata": {
        "colab": {
          "base_uri": "https://localhost:8080/"
        },
        "id": "YDjUOZPELn3G",
        "outputId": "e505bb54-d00b-4080-bd77-cfad7cbfc14e"
      },
      "execution_count": 41,
      "outputs": [
        {
          "output_type": "stream",
          "name": "stdout",
          "text": [
            "Epoch 1/50\n",
            "232/232 [==============================] - 132s 506ms/step - loss: 6.3066 - val_loss: 5.8748\n",
            "Epoch 2/50\n",
            "232/232 [==============================] - 117s 504ms/step - loss: 5.7697 - val_loss: 5.5360\n",
            "Epoch 3/50\n",
            "232/232 [==============================] - 117s 505ms/step - loss: 5.4493 - val_loss: 5.2871\n",
            "Epoch 4/50\n",
            "232/232 [==============================] - 116s 501ms/step - loss: 5.1706 - val_loss: 5.0576\n",
            "Epoch 5/50\n",
            "232/232 [==============================] - 117s 503ms/step - loss: 4.9262 - val_loss: 4.8972\n",
            "Epoch 6/50\n",
            "232/232 [==============================] - 116s 501ms/step - loss: 4.7166 - val_loss: 4.7780\n",
            "Epoch 7/50\n",
            "232/232 [==============================] - 117s 503ms/step - loss: 4.5411 - val_loss: 4.6495\n",
            "Epoch 8/50\n",
            "232/232 [==============================] - 116s 500ms/step - loss: 4.3848 - val_loss: 4.5698\n",
            "Epoch 9/50\n",
            "232/232 [==============================] - 117s 503ms/step - loss: 4.2425 - val_loss: 4.4879\n",
            "Epoch 10/50\n",
            "232/232 [==============================] - 117s 503ms/step - loss: 4.1129 - val_loss: 4.4332\n",
            "Epoch 11/50\n",
            "232/232 [==============================] - 116s 501ms/step - loss: 3.9937 - val_loss: 4.3856\n",
            "Epoch 12/50\n",
            "232/232 [==============================] - 115s 498ms/step - loss: 3.8822 - val_loss: 4.3363\n",
            "Epoch 13/50\n",
            "232/232 [==============================] - 116s 501ms/step - loss: 3.7836 - val_loss: 4.3072\n",
            "Epoch 14/50\n",
            "232/232 [==============================] - 116s 501ms/step - loss: 3.6931 - val_loss: 4.2753\n",
            "Epoch 15/50\n",
            "232/232 [==============================] - 115s 497ms/step - loss: 3.6041 - val_loss: 4.2611\n",
            "Epoch 16/50\n",
            "232/232 [==============================] - 114s 493ms/step - loss: 3.5274 - val_loss: 4.2437\n",
            "Epoch 17/50\n",
            "232/232 [==============================] - 113s 488ms/step - loss: 3.4526 - val_loss: 4.2318\n",
            "Epoch 18/50\n",
            "232/232 [==============================] - 113s 486ms/step - loss: 3.3795 - val_loss: 4.2100\n",
            "Epoch 19/50\n",
            "232/232 [==============================] - 113s 486ms/step - loss: 3.3148 - val_loss: 4.2028\n",
            "Epoch 20/50\n",
            "232/232 [==============================] - 112s 482ms/step - loss: 3.2497 - val_loss: 4.1974\n",
            "Epoch 21/50\n",
            "232/232 [==============================] - 112s 481ms/step - loss: 3.1899 - val_loss: 4.1969\n",
            "Epoch 22/50\n",
            "232/232 [==============================] - 112s 484ms/step - loss: 3.1310 - val_loss: 4.1982\n",
            "Epoch 23/50\n",
            "232/232 [==============================] - 113s 489ms/step - loss: 3.0740 - val_loss: 4.1856\n",
            "Epoch 24/50\n",
            "232/232 [==============================] - 112s 485ms/step - loss: 3.0236 - val_loss: 4.1861\n",
            "Epoch 25/50\n",
            "232/232 [==============================] - 114s 489ms/step - loss: 2.9769 - val_loss: 4.1863\n",
            "Epoch 25: early stopping\n"
          ]
        }
      ]
    },
    {
      "cell_type": "code",
      "source": [
        "plt.plot(history.history['loss'], label='train')\n",
        "plt.plot(history.history['val_loss'], label='test')\n",
        "plt.legend()\n",
        "plt.show()"
      ],
      "metadata": {
        "colab": {
          "base_uri": "https://localhost:8080/",
          "height": 265
        },
        "id": "A2UsTbYPMBPS",
        "outputId": "272ee748-ac7f-49fc-e99d-88eb7fb9f7ed"
      },
      "execution_count": 42,
      "outputs": [
        {
          "output_type": "display_data",
          "data": {
            "text/plain": [
              "<Figure size 432x288 with 1 Axes>"
            ],
            "image/png": "[encoded data removed]"
          },
          "metadata": {
            "needs_background": "light"
          }
        }
      ]
    },
    {
      "cell_type": "markdown",
      "source": [
        "# Step 6. Inference Model(추론 모델) 설계\n",
        "\n",
        "테스트 단계에서는 정수 인덱스 행렬로 존재했던 텍스트 데이터를 실제 데이터로 복원해야 하므로, 필요한 3개의 사전을 아래와 같이 미리 준비해 둔다."
      ],
      "metadata": {
        "id": "aFUd7Rw3fVuD"
      }
    },
    {
      "cell_type": "code",
      "source": [
        "src_index_to_word = src_tokenizer.index_word # 원문 단어 집합에서 정수 -> 단어를 얻음\n",
        "tar_word_to_index = tar_tokenizer.word_index # 요약 단어 집합에서 단어 -> 정수를 얻음\n",
        "tar_index_to_word = tar_tokenizer.index_word # 요약 단어 집합에서 정수 -> 단어를 얻음"
      ],
      "metadata": {
        "id": "wDE_uorwaAFT"
      },
      "execution_count": 43,
      "outputs": []
    },
    {
      "cell_type": "code",
      "source": [
        "# 인코더 설계\n",
        "encoder_model = Model(inputs=encoder_inputs, outputs=[encoder_outputs, state_h, state_c])\n",
        "\n",
        "# 이전 시점의 상태들을 저장하는 텐서\n",
        "decoder_state_input_h = Input(shape=(hidden_size,))\n",
        "decoder_state_input_c = Input(shape=(hidden_size,))\n",
        "\n",
        "dec_emb2 = dec_emb_layer(decoder_inputs)\n",
        "# 문장의 다음 단어를 예측하기 위해서 초기 상태(initial_state)를 이전 시점의 상태로 사용. 이는 뒤의 함수 decode_sequence()에 구현\n",
        "# 훈련 과정에서와 달리 LSTM의 리턴하는 은닉 상태와 셀 상태인 state_h와 state_c를 버리지 않음.\n",
        "decoder_outputs2, state_h2, state_c2 = decoder_lstm(dec_emb2, initial_state=[decoder_state_input_h, decoder_state_input_c])"
      ],
      "metadata": {
        "id": "WdKqTpqkhCEJ"
      },
      "execution_count": 44,
      "outputs": []
    },
    {
      "cell_type": "code",
      "source": [
        "# 어텐션 함수\n",
        "decoder_hidden_state_input = Input(shape=(text_max_len, hidden_size))\n",
        "attn_out_inf, attn_states_inf = attn_layer([decoder_hidden_state_input, decoder_outputs2])\n",
        "decoder_inf_concat = Concatenate(axis=-1, name='concat')([decoder_outputs2, attn_out_inf])\n",
        "\n",
        "# 디코더의 출력층\n",
        "decoder_outputs2 = decoder_softmax_layer(decoder_inf_concat)\n",
        "\n",
        "# 최종 디코더 모델\n",
        "decoder_model = Model(\n",
        "    [decoder_inputs] + [decoder_hidden_state_input,decoder_state_input_h, decoder_state_input_c],\n",
        "    [decoder_outputs2] + [state_h2, state_c2])"
      ],
      "metadata": {
        "id": "BGAyAJNWiIQg"
      },
      "execution_count": 47,
      "outputs": []
    },
    {
      "cell_type": "code",
      "source": [
        "def decode_sequence(input_seq):\n",
        "    # 입력으로부터 인코더의 상태를 얻음\n",
        "    e_out, e_h, e_c = encoder_model.predict(input_seq)\n",
        "\n",
        "     # <SOS>에 해당하는 토큰 생성\n",
        "    target_seq = np.zeros((1,1))\n",
        "    target_seq[0, 0] = tar_word_to_index['sostoken']\n",
        "\n",
        "    stop_condition = False\n",
        "    decoded_sentence = ''\n",
        "    while not stop_condition: # stop_condition이 True가 될 때까지 루프 반복\n",
        "\n",
        "        output_tokens, h, c = decoder_model.predict([target_seq] + [e_out, e_h, e_c])\n",
        "        sampled_token_index = np.argmax(output_tokens[0, -1, :])\n",
        "        sampled_token = tar_index_to_word[sampled_token_index]\n",
        "\n",
        "        if (sampled_token!='endtoken'):\n",
        "            decoded_sentence += ' '+sampled_token\n",
        "\n",
        "        #  <eos>에 도달하거나 최대 길이를 넘으면 중단.\n",
        "        if (sampled_token == 'endtoken'  or len(decoded_sentence.split()) >= (headlines_max_len-1)):\n",
        "            stop_condition = True\n",
        "\n",
        "        # 길이가 1인 타겟 시퀀스를 업데이트\n",
        "        target_seq = np.zeros((1,1))\n",
        "        target_seq[0, 0] = sampled_token_index\n",
        "\n",
        "        # 상태를 업데이트 합니다.\n",
        "        e_h, e_c = h, c\n",
        "\n",
        "    return decoded_sentence"
      ],
      "metadata": {
        "id": "vrG81s4JjaMB"
      },
      "execution_count": 53,
      "outputs": []
    },
    {
      "cell_type": "code",
      "source": [
        "# Test\n",
        "\n",
        "# 원문의 정수 시퀀스를 텍스트 시퀀스로 변환\n",
        "def seq2text(input_seq):\n",
        "    temp=''\n",
        "    for i in input_seq:\n",
        "        if(i!=0):\n",
        "            temp = temp + src_index_to_word[i]+' '\n",
        "    return temp\n",
        "\n",
        "# 요약문의 정수 시퀀스를 텍스트 시퀀스로 변환\n",
        "def seq2summary(input_seq):\n",
        "    temp=''\n",
        "    for i in input_seq:\n",
        "        if((i!=0 and i!=tar_word_to_index['sostoken']) and i!=tar_word_to_index['eostoken']):\n",
        "            temp = temp + tar_index_to_word[i] + ' '\n",
        "    return temp\n"
      ],
      "metadata": {
        "id": "Ciqxxv5_lB4R"
      },
      "execution_count": 54,
      "outputs": []
    },
    {
      "cell_type": "markdown",
      "source": [
        "# Step 7. 실제 결과와 요약문 비교하기(추상적 요약)"
      ],
      "metadata": {
        "id": "LNviK3hCk_2W"
      }
    },
    {
      "cell_type": "code",
      "source": [
        "for i in range(50, 60):\n",
        "    print(\"원문 :\", seq2text(encoder_input_test[i]))\n",
        "    print(\"실제 요약 :\", seq2summary(decoder_input_test[i]))\n",
        "    print(\"예측 요약 :\", decode_sequence(encoder_input_test[i].reshape(1, text_max_len)))\n",
        "    print(\"\\n\")"
      ],
      "metadata": {
        "colab": {
          "base_uri": "https://localhost:8080/"
        },
        "id": "LFNPjAmok_YQ",
        "outputId": "f8936043-4b55-4dec-c610-8cf1f1961970"
      },
      "execution_count": 55,
      "outputs": [
        {
          "output_type": "stream",
          "name": "stdout",
          "text": [
            "원문 : debutant fifa hosts india broke record highest attendance fifa world cup spectators turned witness tournament matches six venues across country saw average attendance tournament also broke record number goals scored goals \n",
            "실제 요약 : india breaks attendance record for the fifa world cup \n",
            "예측 요약 :  world cup winning team to be auctioned eostoken eostoken\n",
            "\n",
            "\n",
            "원문 : japanese civil security website warned citizens north korean missile could cover distance km minutes reach country prime minister shinzo abe office issued new actions protect guidelines citizens respond north korean ballistic missile heading towards country \n",
            "실제 요약 : north korean missile can hit in only minutes japan \n",
            "예측 요약 :  japan to launch missile test after japan eostoken eostoken\n",
            "\n",
            "\n",
            "원문 : information broadcasting minister smriti irani saturday said india tolerant nation confident enough surgical strike let world speak powers replying question india pakistan ties added change friends never change neighbours \n",
            "실제 요약 : india confident enough for surgical strike smriti irani \n",
            "예측 요약 :  india cannot be india to india smriti irani eostoken\n",
            "\n",
            "\n",
            "원문 : former singer accused boys member nick carter raping claims name casual carter forced perform oral sex raping told virgin want sex wrote blog \n",
            "실제 요약 : singer accuses boys member nick of rape \n",
            "예측 요약 :  singer gets rape accused of raping minor eostoken eostoken\n",
            "\n",
            "\n",
            "원문 : two engineering students karnataka district developed bluetooth enabled helmet works voice commands help user navigate places helmet features inbuilt bluetooth speakers usb charging port used six hours single charge helmet also cooling sheet front driver night vision \n",
            "실제 요약 : indian students make bluetooth enabled route helmet \n",
            "예측 요약 :  karnataka students to monitor phone in bengaluru eostoken eostoken\n",
            "\n",
            "\n",
            "원문 : new zealand environment minister nick smith challenged fist fight water pollution policy aims country rivers lakes called smith fight swimming hole according badly polluted suitable swimming \n",
            "실제 요약 : nz minister challenged to fight over water policy \n",
            "예측 요약 :  australia pollution in australia eostoken eostoken eostoken eostoken eostoken\n",
            "\n",
            "\n",
            "원문 : commerce giant amazon preparing start selling locally made food wholly owned subsidiary india march according reports unit sell locally produced packaged food products reports said amazon said track launch food retail business give details \n",
            "실제 요약 : amazon to sell made food in india reports \n",
            "예측 요약 :  amazon invests crore in its food store eostoken eostoken\n",
            "\n",
            "\n",
            "원문 : rajput group karni sena chief lokendra singh kalvi wednesday said india burn release padmaavat banned stating violence film sad wrong kalvi added one stop protests comes protesters set fire vehicles haryana gujarat protests padmaavat release \n",
            "실제 요약 : ban padmaavat or the nation will burn karni sena \n",
            "예측 요약 :  karni sena leader threatens to stop padmaavat eostoken eostoken\n",
            "\n",
            "\n",
            "원문 : pm narendra modi laid foundation several irrigation projects including revival mandal dam project worth crore jharkhand dam work stalled since provide irrigation hectare area jharkhand bihar launch pm modi said around crore spent revival irrigation projects across india \n",
            "실제 요약 : pm modi lays foundation of cr mandal dam in jharkhand \n",
            "예측 요약 :  pm modi announces projects worth crore in gujarat eostoken\n",
            "\n",
            "\n",
            "원문 : foot removed sewer united states removed cost help water jets vacuum truck comprising wet human waste century old inch pipe \n",
            "실제 요약 : foot removed from sewer in us \n",
            "예측 요약 :  man gets kg of lakh in water eostoken eostoken\n",
            "\n",
            "\n"
          ]
        }
      ]
    },
    {
      "cell_type": "markdown",
      "source": [
        "# Step 8. 추출적 요약(Extractive Summarization)\n",
        "\n",
        "추상적 요약은 추출적 요약과는 달리 문장의 표현력을 다양하게 가져올 수 있지만, 추출적 요약과는 달리 난이도가 높은 편이다. 추출적 요약은 기존 문장에서 문장을 꺼내오다 보니 잘못된 요약을 할 가능성이 있다. 전처리를 안 한 문장으로 해야 요약문이 나올 수 있다고 한다."
      ],
      "metadata": {
        "id": "SQKwONTDmsOx"
      }
    },
    {
      "cell_type": "code",
      "source": [
        "import requests\n",
        "from summa.summarizer import summarize"
      ],
      "metadata": {
        "id": "ndAhz58QlqkD"
      },
      "execution_count": 56,
      "outputs": []
    },
    {
      "cell_type": "code",
      "source": [
        "# 전처리를 하기 전 원래의 데이터셋을 다시 가지고 왔다. 추출적 요약을 하기 위해 전처리 안 한 문장으로 해야 하니까!!\n",
        "data = pd.read_csv('news_summary_more.csv', encoding='iso-8859-1')\n",
        "print(data[:1500])"
      ],
      "metadata": {
        "colab": {
          "base_uri": "https://localhost:8080/"
        },
        "id": "OVzgZlyXnqWH",
        "outputId": "090dd91c-6cc7-4716-9e43-c0d6200d9f88"
      },
      "execution_count": 58,
      "outputs": [
        {
          "output_type": "stream",
          "name": "stdout",
          "text": [
            "                                              headlines  \\\n",
            "0     upGrad learner switches to career in ML & Al w...   \n",
            "1     Delhi techie wins free food from Swiggy for on...   \n",
            "2     New Zealand end Rohit Sharma-led India's 12-ma...   \n",
            "3     Aegon life iTerm insurance plan helps customer...   \n",
            "4     Have known Hirani for yrs, what if MeToo claim...   \n",
            "...                                                 ...   \n",
            "1495  Have seen Sachin Tendulkar get angry but not M...   \n",
            "1496  Player ensures wife stays dry in rain during A...   \n",
            "1497  Federer denied entry into locker room by secur...   \n",
            "1498  42/42 seats in West Bengal: CM Mamata's cutout...   \n",
            "1499  Court refuses chargesheet by Delhi Police agai...   \n",
            "\n",
            "                                                   text  \n",
            "0     Saurav Kant, an alumnus of upGrad and IIIT-B's...  \n",
            "1     Kunal Shah's credit card bill payment platform...  \n",
            "2     New Zealand defeated India by 8 wickets in the...  \n",
            "3     With Aegon Life iTerm Insurance plan, customer...  \n",
            "4     Speaking about the sexual harassment allegatio...  \n",
            "...                                                 ...  \n",
            "1495  India head coach Ravi Shastri has said that he...  \n",
            "1496  Italian tennis player Andreas Seppi ensured hi...  \n",
            "1497  World number three Roger Federer was stopped b...  \n",
            "1498  A cutout of TMC chief and West Bengal CM Mamat...  \n",
            "1499  A Delhi court on Saturday pulled up Delhi Poli...  \n",
            "\n",
            "[1500 rows x 2 columns]\n"
          ]
        }
      ]
    },
    {
      "cell_type": "code",
      "source": [
        "for i in range(5):\n",
        "    print(\"* 원문 :\", data['text'][i])\n",
        "    print(\"* 실제 요약 :\", data['headlines'][i])\n",
        "    print(\"* 추출적 요약 :\", summarize(data['text'][i], ratio=0.4))\n",
        "    print(\"\\n\")"
      ],
      "metadata": {
        "colab": {
          "base_uri": "https://localhost:8080/"
        },
        "id": "BdwdI2pDn0Xn",
        "outputId": "7c1a618f-055b-4ab4-d535-f5aaa8ddd827"
      },
      "execution_count": 59,
      "outputs": [
        {
          "output_type": "stream",
          "name": "stdout",
          "text": [
            "* 원문 : Saurav Kant, an alumnus of upGrad and IIIT-B's PG Program in Machine learning and Artificial Intelligence, was a Sr Systems Engineer at Infosys with almost 5 years of work experience. The program and upGrad's 360-degree career support helped him transition to a Data Scientist at Tech Mahindra with 90% salary hike. upGrad's Online Power Learning has powered 3 lakh+ careers.\n",
            "* 실제 요약 : upGrad learner switches to career in ML & Al with 90% salary hike\n",
            "* 추출적 요약 : upGrad's Online Power Learning has powered 3 lakh+ careers.\n",
            "\n",
            "\n",
            "* 원문 : Kunal Shah's credit card bill payment platform, CRED, gave users a chance to win free food from Swiggy for one year. Pranav Kaushik, a Delhi techie, bagged this reward after spending 2000 CRED coins. Users get one CRED coin per rupee of bill paid, which can be used to avail rewards from brands like Ixigo, BookMyShow, UberEats, Cult.Fit and more.\n",
            "* 실제 요약 : Delhi techie wins free food from Swiggy for one year on CRED\n",
            "* 추출적 요약 : Users get one CRED coin per rupee of bill paid, which can be used to avail rewards from brands like Ixigo, BookMyShow, UberEats, Cult.Fit and more.\n",
            "\n",
            "\n",
            "* 원문 : New Zealand defeated India by 8 wickets in the fourth ODI at Hamilton on Thursday to win their first match of the five-match ODI series. India lost an international match under Rohit Sharma's captaincy after 12 consecutive victories dating back to March 2018. The match witnessed India getting all out for 92, their seventh lowest total in ODI cricket history.\n",
            "* 실제 요약 : New Zealand end Rohit Sharma-led India's 12-match winning streak\n",
            "* 추출적 요약 : The match witnessed India getting all out for 92, their seventh lowest total in ODI cricket history.\n",
            "\n",
            "\n",
            "* 원문 : With Aegon Life iTerm Insurance plan, customers can enjoy tax benefits on your premiums paid and save up to Ã¢ÂÂ¹46,800^ on taxes. The plan provides life cover up to the age of 100 years. Also, customers have options to insure against Critical Illnesses, Disability and Accidental Death Benefit Rider with a life cover up to the age of 80 years.\n",
            "* 실제 요약 : Aegon life iTerm insurance plan helps customers save tax\n",
            "* 추출적 요약 : Also, customers have options to insure against Critical Illnesses, Disability and Accidental Death Benefit Rider with a life cover up to the age of 80 years.\n",
            "\n",
            "\n",
            "* 원문 : Speaking about the sexual harassment allegations against Rajkumar Hirani, Sonam Kapoor said, \"I've known Hirani for many years...What if it's not true, the [#MeToo] movement will get derailed.\" \"In the #MeToo movement, I always believe a woman. But in this case, we need to reserve our judgment,\" she added. Hirani has been accused by an assistant who worked in 'Sanju'.\n",
            "* 실제 요약 : Have known Hirani for yrs, what if MeToo claims are not true: Sonam\n",
            "* 추출적 요약 : Speaking about the sexual harassment allegations against Rajkumar Hirani, Sonam Kapoor said, \"I've known Hirani for many years...What if it's not true, the [#MeToo] movement will get derailed.\" \"In the #MeToo movement, I always believe a woman.\n",
            "\n",
            "\n"
          ]
        }
      ]
    },
    {
      "cell_type": "markdown",
      "source": [
        "# 회고\n",
        "\n",
        "* 이번 노드는 간단히 말해 텍스트 요약으로써 길이가 긴 텍스트들 중 중요하고 핵심이 되는 단어를 끄집어 내서 요약문 형태로 만드는 과정이라는 걸 알 수 있다!!!\n",
        "\n",
        "\n",
        "![image.png](data:image/png;base64,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)\n",
        "\n",
        "* 텍스트 요약에는 크게 추상적 요약과 추출적 요약이 있었는데 이 두 가지 종류의 요약을 모두 실습해봄으로써 이 둘의 차이를 이해할 수 있었다. 사실 기존 노드에도 해당 내용이 잘 정리가 되어있었다!!! \n",
        "(추상적 요약 VS 추출적 요약 참고 링크: https://velog.io/@sp1rit/%ED%85%8D%EC%8A%A4%ED%8A%B8-%EC%9A%94%EC%95%BD)\n",
        "\n",
        "* 추상적 요약을 시키기 위해 모델을 돌리고 훈련을 시켜보니 Epoch 25회만에 early stopping하여 `loss`는 2.9769,  `val_loss`는 4.1863 정도 나왔었다. `val_loss`가 어느 정도인지 가늠은 안 되지만 주어는 잘 잡아내는 거 같은데 나머지 부분은 좀 엉성한 부분이 많긴 하다. 문장 구조가 제대로 형성이 되지 못한 느낌(?)\n",
        "\n",
        "* 원래는 하이퍼 파라미터라고 할 수 있는 `embedding_dim`, `hidden_size`, `recurrent_dropout`를 조금씩 바꿔보면서 좀 더 성능이 뛰어난 모델을 찾기 위한 노력을 해 봐야 하는데 마감 기한이 코앞이다 보니 시간상 여기까지 하기로 했다.\n",
        "\n",
        "* 추출적 요약을 자세히 보니 확실히 코드가 추상적 요약에 비해 간단한 편이긴 했지만 뭔가 요약이라고 하기에는 문장의 길이가 너무 길었다. 좀 더 줄일 수는 없는 걸까를 고민했지만 나는 이미 CV로 가기로 확정을 지은 상태였다. 아쉽 ㅠㅠ"
      ],
      "metadata": {
        "id": "b4kctwsHozL8"
      }
    },
    {
      "cell_type": "code",
      "source": [],
      "metadata": {
        "id": "O0Y-zE7PtxmI"
      },
      "execution_count": null,
      "outputs": []
    }
  ]
}